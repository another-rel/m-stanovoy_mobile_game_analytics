{
 "cells": [
  {
   "cell_type": "markdown",
   "metadata": {},
   "source": [
    "# Исследование мобильного приложения. Становой М.А."
   ]
  },
  {
   "cell_type": "markdown",
   "metadata": {},
   "source": [
    "### Блок подготовки"
   ]
  },
  {
   "cell_type": "code",
   "execution_count": 141,
   "metadata": {},
   "outputs": [],
   "source": [
    "# Импортируем необходимые библиотеки\n",
    "\n",
    "import pandas as pd\n",
    "import numpy as np\n",
    "import seaborn as sns\n",
    "import matplotlib.pyplot as plt\n",
    "\n",
    "from datetime import datetime\n",
    "pd.options.mode.chained_assignment = None\n",
    "\n",
    "# Инструменты для импорта файла из Я.Диска\n",
    "import requests \n",
    "from urllib.parse import urlencode \n",
    "\n",
    "# И инструменты статистики\n",
    "from scipy import stats\n",
    "from scipy.stats import shapiro\n",
    "from scipy.stats import chi2_contingency"
   ]
  },
  {
   "cell_type": "code",
   "execution_count": 2,
   "metadata": {},
   "outputs": [],
   "source": [
    "# Задаем новый стандартный размер для графиков seaborn \n",
    "\n",
    "sns.set_theme(rc={'figure.figsize':(11.7,8.27)})"
   ]
  },
  {
   "cell_type": "markdown",
   "metadata": {},
   "source": [
    "&nbsp;\n",
    "### Задача 1. Создание функции для расчета *retention* игроков"
   ]
  },
  {
   "cell_type": "markdown",
   "metadata": {},
   "source": [
    "#### Цель:\n",
    "\n",
    "Написать функцию, которая будет считать retention игроков (по дням от даты регистрации игрока)"
   ]
  },
  {
   "cell_type": "markdown",
   "metadata": {},
   "source": [
    "#### Этап 1. Подгрузка датасетов и разведочный анализ (EDA)"
   ]
  },
  {
   "cell_type": "code",
   "execution_count": 3,
   "metadata": {},
   "outputs": [],
   "source": [
    "# Импортируем датасет с данными о регистрации пользователей в приложение\n",
    "\n",
    "initial_reg_data = pd.read_csv('problem1-reg_data.csv', sep=';')"
   ]
  },
  {
   "cell_type": "code",
   "execution_count": 4,
   "metadata": {},
   "outputs": [
    {
     "data": {
      "text/html": [
       "<div>\n",
       "<style scoped>\n",
       "    .dataframe tbody tr th:only-of-type {\n",
       "        vertical-align: middle;\n",
       "    }\n",
       "\n",
       "    .dataframe tbody tr th {\n",
       "        vertical-align: top;\n",
       "    }\n",
       "\n",
       "    .dataframe thead th {\n",
       "        text-align: right;\n",
       "    }\n",
       "</style>\n",
       "<table border=\"1\" class=\"dataframe\">\n",
       "  <thead>\n",
       "    <tr style=\"text-align: right;\">\n",
       "      <th></th>\n",
       "      <th>reg_ts</th>\n",
       "      <th>uid</th>\n",
       "    </tr>\n",
       "  </thead>\n",
       "  <tbody>\n",
       "    <tr>\n",
       "      <th>0</th>\n",
       "      <td>911382223</td>\n",
       "      <td>1</td>\n",
       "    </tr>\n",
       "    <tr>\n",
       "      <th>1</th>\n",
       "      <td>932683089</td>\n",
       "      <td>2</td>\n",
       "    </tr>\n",
       "    <tr>\n",
       "      <th>2</th>\n",
       "      <td>947802447</td>\n",
       "      <td>3</td>\n",
       "    </tr>\n",
       "    <tr>\n",
       "      <th>3</th>\n",
       "      <td>959523541</td>\n",
       "      <td>4</td>\n",
       "    </tr>\n",
       "    <tr>\n",
       "      <th>4</th>\n",
       "      <td>969103313</td>\n",
       "      <td>5</td>\n",
       "    </tr>\n",
       "  </tbody>\n",
       "</table>\n",
       "</div>"
      ],
      "text/plain": [
       "      reg_ts  uid\n",
       "0  911382223    1\n",
       "1  932683089    2\n",
       "2  947802447    3\n",
       "3  959523541    4\n",
       "4  969103313    5"
      ]
     },
     "execution_count": 4,
     "metadata": {},
     "output_type": "execute_result"
    }
   ],
   "source": [
    "# Проверим корректность подгрузки датасета\n",
    "\n",
    "initial_reg_data.head()"
   ]
  },
  {
   "cell_type": "code",
   "execution_count": 5,
   "metadata": {},
   "outputs": [
    {
     "data": {
      "text/plain": [
       "(1000000, 2)"
      ]
     },
     "execution_count": 5,
     "metadata": {},
     "output_type": "execute_result"
    }
   ],
   "source": [
    "# Проверим основные параметры датасета, такие как:\n",
    "# Кол-во строк и кол-во столбцов\n",
    "\n",
    "initial_reg_data.shape"
   ]
  },
  {
   "cell_type": "code",
   "execution_count": 6,
   "metadata": {},
   "outputs": [
    {
     "data": {
      "text/plain": [
       "reg_ts    int64\n",
       "uid       int64\n",
       "dtype: object"
      ]
     },
     "execution_count": 6,
     "metadata": {},
     "output_type": "execute_result"
    }
   ],
   "source": [
    "# Установленные типы данных\n",
    "# Ранее мы уже увидели, что дата регистрации приведена в виде timestamp'а\n",
    "# следовательно, понадобится преобразовать этот столбец в datetime формат\n",
    "\n",
    "initial_reg_data.dtypes"
   ]
  },
  {
   "cell_type": "code",
   "execution_count": 7,
   "metadata": {},
   "outputs": [
    {
     "data": {
      "text/plain": [
       "reg_ts    0\n",
       "uid       0\n",
       "dtype: int64"
      ]
     },
     "execution_count": 7,
     "metadata": {},
     "output_type": "execute_result"
    }
   ],
   "source": [
    "# Проверим наличие незаполненных данных\n",
    "\n",
    "initial_reg_data.isna().sum()"
   ]
  },
  {
   "cell_type": "code",
   "execution_count": 8,
   "metadata": {},
   "outputs": [
    {
     "data": {
      "text/plain": [
       "0"
      ]
     },
     "execution_count": 8,
     "metadata": {},
     "output_type": "execute_result"
    }
   ],
   "source": [
    "# Проверим наличие дупликатов в записях о пользователях\n",
    "\n",
    "initial_reg_data['uid'].duplicated().sum()"
   ]
  },
  {
   "cell_type": "code",
   "execution_count": 9,
   "metadata": {},
   "outputs": [],
   "source": [
    "# Импортируем датасет с данными об авторизации пользователей в приложение\n",
    "\n",
    "initial_auth_data = pd.read_csv('problem1-auth_data.csv', sep=';')"
   ]
  },
  {
   "cell_type": "code",
   "execution_count": 10,
   "metadata": {},
   "outputs": [
    {
     "data": {
      "text/html": [
       "<div>\n",
       "<style scoped>\n",
       "    .dataframe tbody tr th:only-of-type {\n",
       "        vertical-align: middle;\n",
       "    }\n",
       "\n",
       "    .dataframe tbody tr th {\n",
       "        vertical-align: top;\n",
       "    }\n",
       "\n",
       "    .dataframe thead th {\n",
       "        text-align: right;\n",
       "    }\n",
       "</style>\n",
       "<table border=\"1\" class=\"dataframe\">\n",
       "  <thead>\n",
       "    <tr style=\"text-align: right;\">\n",
       "      <th></th>\n",
       "      <th>auth_ts</th>\n",
       "      <th>uid</th>\n",
       "    </tr>\n",
       "  </thead>\n",
       "  <tbody>\n",
       "    <tr>\n",
       "      <th>0</th>\n",
       "      <td>911382223</td>\n",
       "      <td>1</td>\n",
       "    </tr>\n",
       "    <tr>\n",
       "      <th>1</th>\n",
       "      <td>932683089</td>\n",
       "      <td>2</td>\n",
       "    </tr>\n",
       "    <tr>\n",
       "      <th>2</th>\n",
       "      <td>932921206</td>\n",
       "      <td>2</td>\n",
       "    </tr>\n",
       "    <tr>\n",
       "      <th>3</th>\n",
       "      <td>933393015</td>\n",
       "      <td>2</td>\n",
       "    </tr>\n",
       "    <tr>\n",
       "      <th>4</th>\n",
       "      <td>933875379</td>\n",
       "      <td>2</td>\n",
       "    </tr>\n",
       "  </tbody>\n",
       "</table>\n",
       "</div>"
      ],
      "text/plain": [
       "     auth_ts  uid\n",
       "0  911382223    1\n",
       "1  932683089    2\n",
       "2  932921206    2\n",
       "3  933393015    2\n",
       "4  933875379    2"
      ]
     },
     "execution_count": 10,
     "metadata": {},
     "output_type": "execute_result"
    }
   ],
   "source": [
    "# Проверим корректность подгрузки датасета\n",
    "\n",
    "initial_auth_data.head()"
   ]
  },
  {
   "cell_type": "code",
   "execution_count": 11,
   "metadata": {},
   "outputs": [
    {
     "data": {
      "text/plain": [
       "(9601013, 2)"
      ]
     },
     "execution_count": 11,
     "metadata": {},
     "output_type": "execute_result"
    }
   ],
   "source": [
    "# Проверим основные параметры датасета, такие как:\n",
    "# Кол-во строк и кол-во столбцов отличается от датасета с данными о регистрации\n",
    "# Это связано с тем, что не все пользователи авторизовались в приложении после регистрации\n",
    "\n",
    "initial_auth_data.shape"
   ]
  },
  {
   "cell_type": "code",
   "execution_count": 12,
   "metadata": {},
   "outputs": [
    {
     "data": {
      "text/plain": [
       "auth_ts    int64\n",
       "uid        int64\n",
       "dtype: object"
      ]
     },
     "execution_count": 12,
     "metadata": {},
     "output_type": "execute_result"
    }
   ],
   "source": [
    "# Установленные типы данных\n",
    "# Ранее мы уже увидели, что дата регистрации приведена в виде timestamp'а\n",
    "# следовательно, понадобится преобразовать этот столбец в datetime формат\n",
    "\n",
    "initial_auth_data.dtypes"
   ]
  },
  {
   "cell_type": "code",
   "execution_count": 13,
   "metadata": {},
   "outputs": [
    {
     "data": {
      "text/plain": [
       "8601013"
      ]
     },
     "execution_count": 13,
     "metadata": {},
     "output_type": "execute_result"
    }
   ],
   "source": [
    "# Проверим наличие дубликатов в записях о пользователях\n",
    "# Очевидно, бОльшая часть пользователи авторизовывались в приложении многократно\n",
    "\n",
    "initial_auth_data['uid'].duplicated().sum()"
   ]
  },
  {
   "cell_type": "code",
   "execution_count": 83,
   "metadata": {},
   "outputs": [
    {
     "data": {
      "text/plain": [
       "1000000"
      ]
     },
     "execution_count": 83,
     "metadata": {},
     "output_type": "execute_result"
    }
   ],
   "source": [
    "# Проверим кол-во уникальных пользователей в датасете с авторизациями\n",
    "\n",
    "initial_auth_data['uid'].nunique()"
   ]
  },
  {
   "cell_type": "code",
   "execution_count": 84,
   "metadata": {},
   "outputs": [
    {
     "data": {
      "text/plain": [
       "1000000"
      ]
     },
     "execution_count": 84,
     "metadata": {},
     "output_type": "execute_result"
    }
   ],
   "source": [
    "# Проверим совпадение пользователей между датасетами с данными о регистрации и авторизации\n",
    "\n",
    "initial_reg_data.merge(initial_auth_data, how='left', on='uid').uid.nunique()"
   ]
  },
  {
   "cell_type": "code",
   "execution_count": 14,
   "metadata": {},
   "outputs": [],
   "source": [
    "# Создадим копию исходного датасета с данными о регистрации\n",
    "# это позволит в любое время обратиться к исходным данным\n",
    "\n",
    "df_reg = initial_reg_data.copy()"
   ]
  },
  {
   "cell_type": "code",
   "execution_count": 15,
   "metadata": {},
   "outputs": [],
   "source": [
    "# Преобразуем данные о дате регистрации к типу datetime\n",
    "\n",
    "df_reg['reg_ts'] = pd.to_datetime(df_reg['reg_ts'], unit='s').dt.strftime('%Y-%m-%d')"
   ]
  },
  {
   "cell_type": "code",
   "execution_count": 16,
   "metadata": {},
   "outputs": [],
   "source": [
    "# Переименуем колонку для удобства считывания информации\n",
    "\n",
    "df_reg = df_reg.rename(columns={'reg_ts': 'reg_date'})"
   ]
  },
  {
   "cell_type": "code",
   "execution_count": 17,
   "metadata": {},
   "outputs": [
    {
     "data": {
      "text/html": [
       "<div>\n",
       "<style scoped>\n",
       "    .dataframe tbody tr th:only-of-type {\n",
       "        vertical-align: middle;\n",
       "    }\n",
       "\n",
       "    .dataframe tbody tr th {\n",
       "        vertical-align: top;\n",
       "    }\n",
       "\n",
       "    .dataframe thead th {\n",
       "        text-align: right;\n",
       "    }\n",
       "</style>\n",
       "<table border=\"1\" class=\"dataframe\">\n",
       "  <thead>\n",
       "    <tr style=\"text-align: right;\">\n",
       "      <th></th>\n",
       "      <th>reg_date</th>\n",
       "      <th>uid</th>\n",
       "    </tr>\n",
       "  </thead>\n",
       "  <tbody>\n",
       "    <tr>\n",
       "      <th>0</th>\n",
       "      <td>1998-11-18</td>\n",
       "      <td>1</td>\n",
       "    </tr>\n",
       "    <tr>\n",
       "      <th>1</th>\n",
       "      <td>1999-07-22</td>\n",
       "      <td>2</td>\n",
       "    </tr>\n",
       "    <tr>\n",
       "      <th>2</th>\n",
       "      <td>2000-01-13</td>\n",
       "      <td>3</td>\n",
       "    </tr>\n",
       "  </tbody>\n",
       "</table>\n",
       "</div>"
      ],
      "text/plain": [
       "     reg_date  uid\n",
       "0  1998-11-18    1\n",
       "1  1999-07-22    2\n",
       "2  2000-01-13    3"
      ]
     },
     "execution_count": 17,
     "metadata": {},
     "output_type": "execute_result"
    }
   ],
   "source": [
    "# Проверим корректность преобразований\n",
    "\n",
    "df_reg.head(3)"
   ]
  },
  {
   "cell_type": "code",
   "execution_count": 18,
   "metadata": {},
   "outputs": [
    {
     "data": {
      "text/plain": [
       "'2020-09-23'"
      ]
     },
     "execution_count": 18,
     "metadata": {},
     "output_type": "execute_result"
    }
   ],
   "source": [
    "# Проверим максимальное и минимальное значения даты в полученном датасете\n",
    "\n",
    "df_reg['reg_date'].max()"
   ]
  },
  {
   "cell_type": "code",
   "execution_count": 19,
   "metadata": {},
   "outputs": [
    {
     "data": {
      "text/plain": [
       "'1998-11-18'"
      ]
     },
     "execution_count": 19,
     "metadata": {},
     "output_type": "execute_result"
    }
   ],
   "source": [
    "# Обнаруживаем огромный временной разброс и подозрительную минимальную дату\n",
    "# Понадобится проверить кол-во записей по всему датасету с заданным периодом\n",
    "\n",
    "df_reg['reg_date'].min()"
   ]
  },
  {
   "cell_type": "code",
   "execution_count": 20,
   "metadata": {},
   "outputs": [],
   "source": [
    "# В качестве временного периода для проверки данных был выбран год\n",
    "\n",
    "df_reg['reg_year'] = pd.to_datetime(df_reg['reg_date']).dt.year"
   ]
  },
  {
   "cell_type": "code",
   "execution_count": 21,
   "metadata": {},
   "outputs": [
    {
     "data": {
      "text/html": [
       "<div>\n",
       "<style scoped>\n",
       "    .dataframe tbody tr th:only-of-type {\n",
       "        vertical-align: middle;\n",
       "    }\n",
       "\n",
       "    .dataframe tbody tr th {\n",
       "        vertical-align: top;\n",
       "    }\n",
       "\n",
       "    .dataframe thead th {\n",
       "        text-align: right;\n",
       "    }\n",
       "</style>\n",
       "<table border=\"1\" class=\"dataframe\">\n",
       "  <thead>\n",
       "    <tr style=\"text-align: right;\">\n",
       "      <th></th>\n",
       "      <th>reg_date</th>\n",
       "      <th>uid</th>\n",
       "      <th>reg_year</th>\n",
       "    </tr>\n",
       "  </thead>\n",
       "  <tbody>\n",
       "    <tr>\n",
       "      <th>0</th>\n",
       "      <td>1998-11-18</td>\n",
       "      <td>1</td>\n",
       "      <td>1998</td>\n",
       "    </tr>\n",
       "    <tr>\n",
       "      <th>1</th>\n",
       "      <td>1999-07-22</td>\n",
       "      <td>2</td>\n",
       "      <td>1999</td>\n",
       "    </tr>\n",
       "    <tr>\n",
       "      <th>2</th>\n",
       "      <td>2000-01-13</td>\n",
       "      <td>3</td>\n",
       "      <td>2000</td>\n",
       "    </tr>\n",
       "    <tr>\n",
       "      <th>3</th>\n",
       "      <td>2000-05-28</td>\n",
       "      <td>4</td>\n",
       "      <td>2000</td>\n",
       "    </tr>\n",
       "    <tr>\n",
       "      <th>4</th>\n",
       "      <td>2000-09-16</td>\n",
       "      <td>5</td>\n",
       "      <td>2000</td>\n",
       "    </tr>\n",
       "  </tbody>\n",
       "</table>\n",
       "</div>"
      ],
      "text/plain": [
       "     reg_date  uid  reg_year\n",
       "0  1998-11-18    1      1998\n",
       "1  1999-07-22    2      1999\n",
       "2  2000-01-13    3      2000\n",
       "3  2000-05-28    4      2000\n",
       "4  2000-09-16    5      2000"
      ]
     },
     "execution_count": 21,
     "metadata": {},
     "output_type": "execute_result"
    }
   ],
   "source": [
    "# Проверим правильность получения года из даты\n",
    "\n",
    "df_reg.head()"
   ]
  },
  {
   "cell_type": "code",
   "execution_count": 22,
   "metadata": {},
   "outputs": [
    {
     "data": {
      "text/plain": [
       "<matplotlib.axes._subplots.AxesSubplot at 0x7fa35cd140b8>"
      ]
     },
     "execution_count": 22,
     "metadata": {},
     "output_type": "execute_result"
    },
    {
     "data": {
      "image/png": "[encoded data removed]",
      "text/plain": [
       "<Figure size 842.4x595.44 with 1 Axes>"
      ]
     },
     "metadata": {},
     "output_type": "display_data"
    }
   ],
   "source": [
    "# Построим столбчатую диаграмму кол-ва уникальных пользователей от года их регистрации\n",
    "# Перед тем как сделать окончательные выводы, проведем аналогичный анализ датасета с данными об авторизации\n",
    "\n",
    "sns.barplot(data=df_reg.groupby('reg_year', as_index=False).agg({'uid': 'nunique'}), x='reg_year', y='uid')"
   ]
  },
  {
   "cell_type": "code",
   "execution_count": 23,
   "metadata": {},
   "outputs": [],
   "source": [
    "# Аналогично создадим копию исходного датасета с данными об авторизации\n",
    "\n",
    "df_auth = initial_auth_data.copy()"
   ]
  },
  {
   "cell_type": "code",
   "execution_count": 24,
   "metadata": {},
   "outputs": [],
   "source": [
    "# Преобразуем данные о дате авторизации к типу datetime\n",
    "\n",
    "df_auth['auth_ts'] = pd.to_datetime(df_auth['auth_ts'], unit='s').dt.strftime('%Y-%m-%d')"
   ]
  },
  {
   "cell_type": "code",
   "execution_count": 25,
   "metadata": {},
   "outputs": [],
   "source": [
    "# Переименуем колонку для удобства считывания информации\n",
    "\n",
    "df_auth = df_auth.rename(columns={'auth_ts': 'auth_date'})"
   ]
  },
  {
   "cell_type": "code",
   "execution_count": 26,
   "metadata": {},
   "outputs": [
    {
     "data": {
      "text/html": [
       "<div>\n",
       "<style scoped>\n",
       "    .dataframe tbody tr th:only-of-type {\n",
       "        vertical-align: middle;\n",
       "    }\n",
       "\n",
       "    .dataframe tbody tr th {\n",
       "        vertical-align: top;\n",
       "    }\n",
       "\n",
       "    .dataframe thead th {\n",
       "        text-align: right;\n",
       "    }\n",
       "</style>\n",
       "<table border=\"1\" class=\"dataframe\">\n",
       "  <thead>\n",
       "    <tr style=\"text-align: right;\">\n",
       "      <th></th>\n",
       "      <th>auth_date</th>\n",
       "      <th>uid</th>\n",
       "    </tr>\n",
       "  </thead>\n",
       "  <tbody>\n",
       "    <tr>\n",
       "      <th>0</th>\n",
       "      <td>1998-11-18</td>\n",
       "      <td>1</td>\n",
       "    </tr>\n",
       "    <tr>\n",
       "      <th>1</th>\n",
       "      <td>1999-07-22</td>\n",
       "      <td>2</td>\n",
       "    </tr>\n",
       "    <tr>\n",
       "      <th>2</th>\n",
       "      <td>1999-07-25</td>\n",
       "      <td>2</td>\n",
       "    </tr>\n",
       "  </tbody>\n",
       "</table>\n",
       "</div>"
      ],
      "text/plain": [
       "    auth_date  uid\n",
       "0  1998-11-18    1\n",
       "1  1999-07-22    2\n",
       "2  1999-07-25    2"
      ]
     },
     "execution_count": 26,
     "metadata": {},
     "output_type": "execute_result"
    }
   ],
   "source": [
    "# Проверим корректность преобразований\n",
    "\n",
    "df_auth.head(3)"
   ]
  },
  {
   "cell_type": "code",
   "execution_count": 27,
   "metadata": {},
   "outputs": [
    {
     "data": {
      "text/plain": [
       "'2020-09-23'"
      ]
     },
     "execution_count": 27,
     "metadata": {},
     "output_type": "execute_result"
    }
   ],
   "source": [
    "# Проверим максимальное и минимальное значения даты в полученном датасете\n",
    "\n",
    "df_auth['auth_date'].max()"
   ]
  },
  {
   "cell_type": "code",
   "execution_count": 28,
   "metadata": {},
   "outputs": [
    {
     "data": {
      "text/plain": [
       "'1998-11-18'"
      ]
     },
     "execution_count": 28,
     "metadata": {},
     "output_type": "execute_result"
    }
   ],
   "source": [
    "# Видим аналогичную ситуацию с сильным временным разбросом\n",
    "\n",
    "df_auth['auth_date'].min()"
   ]
  },
  {
   "cell_type": "code",
   "execution_count": 29,
   "metadata": {},
   "outputs": [],
   "source": [
    "# Произведем анализ кол-ва уникальных записей от года авторизации\n",
    "\n",
    "df_auth['auth_year'] = pd.to_datetime(df_auth['auth_date']).dt.year"
   ]
  },
  {
   "cell_type": "code",
   "execution_count": 30,
   "metadata": {},
   "outputs": [
    {
     "data": {
      "text/plain": [
       "<matplotlib.axes._subplots.AxesSubplot at 0x7fa308608da0>"
      ]
     },
     "execution_count": 30,
     "metadata": {},
     "output_type": "execute_result"
    },
    {
     "data": {
      "image/png": "[encoded data removed]",
      "text/plain": [
       "<Figure size 842.4x595.44 with 1 Axes>"
      ]
     },
     "metadata": {},
     "output_type": "display_data"
    }
   ],
   "source": [
    "# Получаем идентичную ситуацию\n",
    "\n",
    "sns.barplot(data=df_auth.groupby('auth_year', as_index=False).agg({'uid': 'nunique'}), x='auth_year', y='uid')"
   ]
  },
  {
   "cell_type": "code",
   "execution_count": 31,
   "metadata": {},
   "outputs": [
    {
     "data": {
      "image/png": "[encoded data removed]",
      "text/plain": [
       "<Figure size 1994.4x523.44 with 2 Axes>"
      ]
     },
     "metadata": {},
     "output_type": "display_data"
    }
   ],
   "source": [
    "# Сопоставим диаграммы для лучшей наглядности\n",
    "\n",
    "fig, ax = plt.subplots(1,2)\n",
    "\n",
    "sns.barplot(data=df_reg.groupby('reg_year', as_index=False).agg({'uid': 'nunique'}), x='reg_year', y='uid', ax=ax[0])\n",
    "sns.barplot(data=df_auth.groupby('auth_year', as_index=False).agg({'uid': 'nunique'}), x='auth_year', y='uid', ax=ax[1])\n",
    "\n",
    "fig.set_size_inches(27.7, 7.27)\n",
    "fig.show()"
   ]
  },
  {
   "cell_type": "markdown",
   "metadata": {},
   "source": [
    "**Выводы по этапу подготовки данных:**\n",
    "\n",
    "Данные о регистрации и авторизации пользователей имеют большой разброс. При этом, содержатся записи за подозрительно ранние даты. Это может свидетельствовать об ошибке в процессе сбора данных."
   ]
  },
  {
   "cell_type": "markdown",
   "metadata": {},
   "source": [
    "#### Этап 2. Подготовка датасета к расчету *retention*"
   ]
  },
  {
   "cell_type": "code",
   "execution_count": 32,
   "metadata": {},
   "outputs": [],
   "source": [
    "# Объединим ранее рассмотренные датасеты\n",
    "# При этом, объединение осуществим по левому датасету, что позволит отбросить пользователей, которые\n",
    "# авторизовались, но не регистрировались\n",
    "\n",
    "df = df_reg.merge(df_auth, on='uid', how='left')"
   ]
  },
  {
   "cell_type": "code",
   "execution_count": 33,
   "metadata": {},
   "outputs": [
    {
     "data": {
      "text/html": [
       "<div>\n",
       "<style scoped>\n",
       "    .dataframe tbody tr th:only-of-type {\n",
       "        vertical-align: middle;\n",
       "    }\n",
       "\n",
       "    .dataframe tbody tr th {\n",
       "        vertical-align: top;\n",
       "    }\n",
       "\n",
       "    .dataframe thead th {\n",
       "        text-align: right;\n",
       "    }\n",
       "</style>\n",
       "<table border=\"1\" class=\"dataframe\">\n",
       "  <thead>\n",
       "    <tr style=\"text-align: right;\">\n",
       "      <th></th>\n",
       "      <th>reg_date</th>\n",
       "      <th>uid</th>\n",
       "      <th>reg_year</th>\n",
       "      <th>auth_date</th>\n",
       "      <th>auth_year</th>\n",
       "    </tr>\n",
       "  </thead>\n",
       "  <tbody>\n",
       "    <tr>\n",
       "      <th>0</th>\n",
       "      <td>1998-11-18</td>\n",
       "      <td>1</td>\n",
       "      <td>1998</td>\n",
       "      <td>1998-11-18</td>\n",
       "      <td>1998</td>\n",
       "    </tr>\n",
       "    <tr>\n",
       "      <th>1</th>\n",
       "      <td>1999-07-22</td>\n",
       "      <td>2</td>\n",
       "      <td>1999</td>\n",
       "      <td>1999-07-22</td>\n",
       "      <td>1999</td>\n",
       "    </tr>\n",
       "    <tr>\n",
       "      <th>2</th>\n",
       "      <td>1999-07-22</td>\n",
       "      <td>2</td>\n",
       "      <td>1999</td>\n",
       "      <td>1999-07-25</td>\n",
       "      <td>1999</td>\n",
       "    </tr>\n",
       "  </tbody>\n",
       "</table>\n",
       "</div>"
      ],
      "text/plain": [
       "     reg_date  uid  reg_year   auth_date  auth_year\n",
       "0  1998-11-18    1      1998  1998-11-18       1998\n",
       "1  1999-07-22    2      1999  1999-07-22       1999\n",
       "2  1999-07-22    2      1999  1999-07-25       1999"
      ]
     },
     "execution_count": 33,
     "metadata": {},
     "output_type": "execute_result"
    }
   ],
   "source": [
    "# Проверим корректность объединения по столбцам\n",
    "\n",
    "df.head(3)"
   ]
  },
  {
   "cell_type": "code",
   "execution_count": 34,
   "metadata": {},
   "outputs": [
    {
     "data": {
      "text/plain": [
       "9601013"
      ]
     },
     "execution_count": 34,
     "metadata": {},
     "output_type": "execute_result"
    }
   ],
   "source": [
    "# И по кол-ву строк\n",
    "\n",
    "df.shape[0]"
   ]
  },
  {
   "cell_type": "code",
   "execution_count": 35,
   "metadata": {},
   "outputs": [
    {
     "data": {
      "text/plain": [
       "reg_date     0\n",
       "uid          0\n",
       "reg_year     0\n",
       "auth_date    0\n",
       "auth_year    0\n",
       "dtype: int64"
      ]
     },
     "execution_count": 35,
     "metadata": {},
     "output_type": "execute_result"
    }
   ],
   "source": [
    "# Проверим наличие пропущенных данных\n",
    "\n",
    "df.isna().sum()"
   ]
  },
  {
   "cell_type": "code",
   "execution_count": 36,
   "metadata": {},
   "outputs": [],
   "source": [
    "# Отбросим колонки, использованные для построения гистограмм\n",
    "\n",
    "df = df.drop(columns=['reg_year', 'auth_year'])"
   ]
  },
  {
   "cell_type": "code",
   "execution_count": 37,
   "metadata": {},
   "outputs": [],
   "source": [
    "# Отсортируем датафрейм по возрастанию даты и обновим индексы\n",
    "\n",
    "df = df.sort_values(by=['reg_date', 'auth_date'], ascending=True).reset_index(drop=True)"
   ]
  },
  {
   "cell_type": "code",
   "execution_count": 38,
   "metadata": {},
   "outputs": [],
   "source": [
    "# Поменяем порядок оставшихся столбцов для удобства считывания информации\n",
    "\n",
    "df = df[['uid', 'reg_date', 'auth_date']]"
   ]
  },
  {
   "cell_type": "code",
   "execution_count": 39,
   "metadata": {},
   "outputs": [
    {
     "data": {
      "text/html": [
       "<div>\n",
       "<style scoped>\n",
       "    .dataframe tbody tr th:only-of-type {\n",
       "        vertical-align: middle;\n",
       "    }\n",
       "\n",
       "    .dataframe tbody tr th {\n",
       "        vertical-align: top;\n",
       "    }\n",
       "\n",
       "    .dataframe thead th {\n",
       "        text-align: right;\n",
       "    }\n",
       "</style>\n",
       "<table border=\"1\" class=\"dataframe\">\n",
       "  <thead>\n",
       "    <tr style=\"text-align: right;\">\n",
       "      <th></th>\n",
       "      <th>uid</th>\n",
       "      <th>reg_date</th>\n",
       "      <th>auth_date</th>\n",
       "    </tr>\n",
       "  </thead>\n",
       "  <tbody>\n",
       "    <tr>\n",
       "      <th>0</th>\n",
       "      <td>1</td>\n",
       "      <td>1998-11-18</td>\n",
       "      <td>1998-11-18</td>\n",
       "    </tr>\n",
       "    <tr>\n",
       "      <th>1</th>\n",
       "      <td>2</td>\n",
       "      <td>1999-07-22</td>\n",
       "      <td>1999-07-22</td>\n",
       "    </tr>\n",
       "    <tr>\n",
       "      <th>2</th>\n",
       "      <td>2</td>\n",
       "      <td>1999-07-22</td>\n",
       "      <td>1999-07-25</td>\n",
       "    </tr>\n",
       "    <tr>\n",
       "      <th>3</th>\n",
       "      <td>2</td>\n",
       "      <td>1999-07-22</td>\n",
       "      <td>1999-07-31</td>\n",
       "    </tr>\n",
       "    <tr>\n",
       "      <th>4</th>\n",
       "      <td>2</td>\n",
       "      <td>1999-07-22</td>\n",
       "      <td>1999-08-05</td>\n",
       "    </tr>\n",
       "  </tbody>\n",
       "</table>\n",
       "</div>"
      ],
      "text/plain": [
       "   uid    reg_date   auth_date\n",
       "0    1  1998-11-18  1998-11-18\n",
       "1    2  1999-07-22  1999-07-22\n",
       "2    2  1999-07-22  1999-07-25\n",
       "3    2  1999-07-22  1999-07-31\n",
       "4    2  1999-07-22  1999-08-05"
      ]
     },
     "execution_count": 39,
     "metadata": {},
     "output_type": "execute_result"
    }
   ],
   "source": [
    "# Проверим корректность внесенных изменений\n",
    "\n",
    "df.head()"
   ]
  },
  {
   "cell_type": "markdown",
   "metadata": {},
   "source": [
    "#### Этап 3.1 Расчет *retention* всех игроков по дням от даты регистрации\n",
    "\n",
    "Для расчета показателя *retention* всех игроков понадобится выполнить следующие шаги:\n",
    "\n",
    "1. Рассчитать кол-во дней, прошедших с момента регистрации каждого игрока до авторизации в приложении\n",
    "2. Собрать информацию о кол-ве людей, зашедших в приложение в день n\n",
    "3. Рассчитать показатель *retention* n-го дня по формуле:\n",
    "\n",
    "Retention (n-day) = ( кол-во игроков, вернувшихся в n-й день) / (кол-во игроков, зарегистрировавшихся n дней назад) * 100\n",
    "\n",
    "4. Отрисовать линейную диаграмму для того, чтобы показать динамику изменений за весь период"
   ]
  },
  {
   "cell_type": "code",
   "execution_count": 106,
   "metadata": {},
   "outputs": [],
   "source": [
    "# Создадим функцию, принимающую подготовленный датафрейм и число n, отражающее\n",
    "# период за который мы смотрим retention в днях\n",
    "\n",
    "def full_retention_rate(data, n):\n",
    "    '''\n",
    "    Возвращает линейную диаграмму, отражающую изменение показателя retention за период n.\n",
    "        \n",
    "        Параметры:\n",
    "                data (pandas.DataFrame): датафрейм с данными о дате регистрации и авторизаций пользователя\n",
    "                n (int): дата начала периоди когортного анализа\n",
    "            \n",
    "        Возвращаемое значение:\n",
    "                sns.lineplot (seaborn.lineplot): Линейная диаграмма с динамикой изменения retention за период n\n",
    "    '''\n",
    "    \n",
    "    # Рассчитаем кол-во дней, прошедших с момента регистрации каждого игрока до авторизации в приложении\n",
    "    data['delta'] = (pd.to_datetime(data['auth_date']) - pd.to_datetime(data['reg_date'])).dt.days\n",
    "    \n",
    "    # Подготовим список, для сохранения рассчитанных показателей retention rate\n",
    "    retention_by_days = []\n",
    "    \n",
    "    # Рассчитаем показатель retention и запишем полученное значение в ранее созданный список\n",
    "    for day in range(0, n + 1):\n",
    "        users_by_day = (data.query('delta == @day'))['uid'].nunique()\n",
    "        retention_by_days.append(users_by_day / data['uid'].nunique() * 100)\n",
    "    \n",
    "    # Преобразуем список в датафрейм для возможности отрисовки графика с помощью seaborn\n",
    "    dataframe = pd.DataFrame(retention_by_days)\n",
    "    \n",
    "    # Подготовим датафрейм для передачи в seaborn\n",
    "    dataframe = dataframe.reset_index()\n",
    "    dataframe = dataframe.rename(columns={'index': 'seniority', 0: 'retention'})\n",
    "        \n",
    "    # Вернем отрисованную по полученным данным линейную диаграмму\n",
    "    return sns.lineplot(data=dataframe, x='seniority', y='retention', legend=False)"
   ]
  },
  {
   "cell_type": "code",
   "execution_count": 107,
   "metadata": {},
   "outputs": [
    {
     "name": "stdout",
     "output_type": "stream",
     "text": [
      "\n",
      "    Возвращает линейную диаграмму, отражающую изменение показателя retention за период n.\n",
      "        \n",
      "        Параметры:\n",
      "                data (pandas.DataFrame): датафрейм с данными о дате регистрации и авторизаций пользователя\n",
      "                n (int): дата начала периоди когортного анализа\n",
      "            \n",
      "        Возвращаемое значение:\n",
      "                sns.lineplot (seaborn.lineplot): Линейная диаграмма с динамикой изменения retention за период n\n",
      "    \n"
     ]
    }
   ],
   "source": [
    "print(full_retention_rate.__doc__)"
   ]
  },
  {
   "cell_type": "code",
   "execution_count": 41,
   "metadata": {},
   "outputs": [
    {
     "data": {
      "text/plain": [
       "<matplotlib.axes._subplots.AxesSubplot at 0x7fa3360fac50>"
      ]
     },
     "execution_count": 41,
     "metadata": {},
     "output_type": "execute_result"
    },
    {
     "data": {
      "image/png": "[encoded data removed]",
      "text/plain": [
       "<Figure size 842.4x595.44 with 1 Axes>"
      ]
     },
     "metadata": {},
     "output_type": "display_data"
    }
   ],
   "source": [
    "# Проверяем работу функции, смотрим динамику retention до 7-го дня включительно\n",
    "\n",
    "full_retention_rate(df, 7)"
   ]
  },
  {
   "cell_type": "markdown",
   "metadata": {},
   "source": [
    "#### Этап 3.2 Когортный анализ. Расчет *retention* для когорт\n",
    "\n",
    "Проведем также расчет *retention* для когорт. Для этого понадобится:\n",
    "\n",
    "1. Рассчитать кол-во дней, прошедших с момента регистрации каждого игрока до каждой его авторизации в приложении\n",
    "2. Поделить пользователей на когорты (ввиду большого рассматриваемого временного периода, когорты возьмем по месяцам)\n",
    "3. Рассчитать *retention rate* для каждой когорты по дням с момента регистрации\n",
    "4. Построить тепловую карту для более наглядного представления динамики изменения *retention*"
   ]
  },
  {
   "cell_type": "code",
   "execution_count": 108,
   "metadata": {},
   "outputs": [],
   "source": [
    "# Создадим функцию, принимающую подготовленный датасет, дату начала периода и дату конца периода\n",
    "\n",
    "def cohort_retention_rate(data, start_date, end_date):\n",
    "    ''' \n",
    "    Возвращает сводную таблицу с данными о retention за каждый день из заданного периода.\n",
    "        \n",
    "        Параметры:\n",
    "                data (pandas.DataFrame): датафрейм с данными о дате регистрации и авторизаций пользователя\n",
    "                start_date (str): дата начала периоди когортного анализа\n",
    "                end_date (str): дата конца периода когортного анализа\n",
    "            \n",
    "        Возвращаемое значение:\n",
    "                retention_df (pandas.DataFrame): Cводная таблица с данными о retention\n",
    "    '''\n",
    "    \n",
    "    # Создадим копию входящего датасета\n",
    "    filtered_df = data.copy()\n",
    "    \n",
    "    # Воспользуемся тем, что мы уже знаем в каком формате должны приходить данные в датасете :^)\n",
    "    # и преобразуем их к нужному виду\n",
    "    filtered_df['auth_date'] = pd.to_datetime(filtered_df['auth_date'])\n",
    "    filtered_df['reg_date'] = pd.to_datetime(filtered_df['reg_date'])\n",
    "    \n",
    "    # Отфильтруем полученный датасет исходя из введенного пользователем периода\n",
    "    filtered_df = filtered_df.query('reg_date >= @start_date & reg_date <= @end_date & \\\n",
    "                                    auth_date >= @start_date & auth_date <= @end_date')\n",
    "\n",
    "    # Создадим колонку для названий когорт и преобразуем к строке,\n",
    "    # чтобы при визуализации в seaborn когорты отображались нормально\n",
    "    filtered_df['cohort'] = filtered_df['reg_date'].dt.strftime('%Y-%m-%d')\n",
    "    \n",
    "    # Рассчитаем кол-во дней, прошедших с момента регистрации игрока до авторизации в приложении\n",
    "    filtered_df['seniority'] = (filtered_df['auth_date'] - filtered_df['reg_date']).dt.days\n",
    "    \n",
    "    # Сгруппируем пользователей по когортам внутри датасета и посчитаем кол-во активных пользователей\n",
    "    group_df = filtered_df.groupby(['cohort', 'seniority']).agg({'uid': 'nunique'}).reset_index()\n",
    "    \n",
    "    # Преобразуем полученный ранее датасет в сводную таблицу\n",
    "    pivot_df = group_df.pivot(index='cohort', columns='seniority', values='uid')\n",
    "    \n",
    "    # Сохраним данные о кол-ве игроков в день регистрации (нулевой день)\n",
    "    day_zero_user_count = pivot_df[0]\n",
    "    \n",
    "    # Разделим каждое значение таблицы на кол-во игроков в нулевой день\n",
    "    retention_df = pivot_df.divide(day_zero_user_count, axis=0).round(3)\n",
    "    \n",
    "    # Вернем полученный датафрейм\n",
    "    return retention_df"
   ]
  },
  {
   "cell_type": "code",
   "execution_count": 109,
   "metadata": {},
   "outputs": [
    {
     "name": "stdout",
     "output_type": "stream",
     "text": [
      " \n",
      "    Возвращает сводную таблицу с данными о retention за каждый день из заданного периода.\n",
      "        \n",
      "        Параметры:\n",
      "                data (pandas.DataFrame): датафрейм с данными о дате регистрации и авторизаций пользователя\n",
      "                start_date (str): дата начала периоди когортного анализа\n",
      "                end_date (str): дата конца периода когортного анализа\n",
      "            \n",
      "        Возвращаемое значение:\n",
      "                retention_df (pandas.DataFrame): Cводная таблица с данными о retention\n",
      "    \n"
     ]
    }
   ],
   "source": [
    "print(cohort_retention_rate.__doc__)"
   ]
  },
  {
   "cell_type": "code",
   "execution_count": 43,
   "metadata": {},
   "outputs": [
    {
     "data": {
      "text/html": [
       "<div>\n",
       "<style scoped>\n",
       "    .dataframe tbody tr th:only-of-type {\n",
       "        vertical-align: middle;\n",
       "    }\n",
       "\n",
       "    .dataframe tbody tr th {\n",
       "        vertical-align: top;\n",
       "    }\n",
       "\n",
       "    .dataframe thead th {\n",
       "        text-align: right;\n",
       "    }\n",
       "</style>\n",
       "<table border=\"1\" class=\"dataframe\">\n",
       "  <thead>\n",
       "    <tr style=\"text-align: right;\">\n",
       "      <th>seniority</th>\n",
       "      <th>0</th>\n",
       "      <th>1</th>\n",
       "      <th>2</th>\n",
       "      <th>3</th>\n",
       "      <th>4</th>\n",
       "      <th>5</th>\n",
       "      <th>6</th>\n",
       "      <th>7</th>\n",
       "      <th>8</th>\n",
       "      <th>9</th>\n",
       "      <th>...</th>\n",
       "      <th>22</th>\n",
       "      <th>23</th>\n",
       "      <th>24</th>\n",
       "      <th>25</th>\n",
       "      <th>26</th>\n",
       "      <th>27</th>\n",
       "      <th>28</th>\n",
       "      <th>29</th>\n",
       "      <th>30</th>\n",
       "      <th>31</th>\n",
       "    </tr>\n",
       "    <tr>\n",
       "      <th>cohort</th>\n",
       "      <th></th>\n",
       "      <th></th>\n",
       "      <th></th>\n",
       "      <th></th>\n",
       "      <th></th>\n",
       "      <th></th>\n",
       "      <th></th>\n",
       "      <th></th>\n",
       "      <th></th>\n",
       "      <th></th>\n",
       "      <th></th>\n",
       "      <th></th>\n",
       "      <th></th>\n",
       "      <th></th>\n",
       "      <th></th>\n",
       "      <th></th>\n",
       "      <th></th>\n",
       "      <th></th>\n",
       "      <th></th>\n",
       "      <th></th>\n",
       "      <th></th>\n",
       "    </tr>\n",
       "  </thead>\n",
       "  <tbody>\n",
       "    <tr>\n",
       "      <th>2020-01-01</th>\n",
       "      <td>1.0</td>\n",
       "      <td>0.026</td>\n",
       "      <td>0.045</td>\n",
       "      <td>0.034</td>\n",
       "      <td>0.057</td>\n",
       "      <td>0.058</td>\n",
       "      <td>0.075</td>\n",
       "      <td>0.050</td>\n",
       "      <td>0.044</td>\n",
       "      <td>0.044</td>\n",
       "      <td>...</td>\n",
       "      <td>0.035</td>\n",
       "      <td>0.027</td>\n",
       "      <td>0.038</td>\n",
       "      <td>0.031</td>\n",
       "      <td>0.040</td>\n",
       "      <td>0.036</td>\n",
       "      <td>0.033</td>\n",
       "      <td>0.033</td>\n",
       "      <td>0.024</td>\n",
       "      <td>0.031</td>\n",
       "    </tr>\n",
       "    <tr>\n",
       "      <th>2020-01-02</th>\n",
       "      <td>1.0</td>\n",
       "      <td>0.024</td>\n",
       "      <td>0.045</td>\n",
       "      <td>0.052</td>\n",
       "      <td>0.048</td>\n",
       "      <td>0.058</td>\n",
       "      <td>0.077</td>\n",
       "      <td>0.059</td>\n",
       "      <td>0.056</td>\n",
       "      <td>0.053</td>\n",
       "      <td>...</td>\n",
       "      <td>0.043</td>\n",
       "      <td>0.041</td>\n",
       "      <td>0.034</td>\n",
       "      <td>0.038</td>\n",
       "      <td>0.034</td>\n",
       "      <td>0.031</td>\n",
       "      <td>0.034</td>\n",
       "      <td>0.031</td>\n",
       "      <td>0.028</td>\n",
       "      <td>NaN</td>\n",
       "    </tr>\n",
       "    <tr>\n",
       "      <th>2020-01-03</th>\n",
       "      <td>1.0</td>\n",
       "      <td>0.023</td>\n",
       "      <td>0.034</td>\n",
       "      <td>0.044</td>\n",
       "      <td>0.045</td>\n",
       "      <td>0.069</td>\n",
       "      <td>0.075</td>\n",
       "      <td>0.054</td>\n",
       "      <td>0.045</td>\n",
       "      <td>0.042</td>\n",
       "      <td>...</td>\n",
       "      <td>0.038</td>\n",
       "      <td>0.031</td>\n",
       "      <td>0.032</td>\n",
       "      <td>0.038</td>\n",
       "      <td>0.036</td>\n",
       "      <td>0.025</td>\n",
       "      <td>0.024</td>\n",
       "      <td>0.029</td>\n",
       "      <td>NaN</td>\n",
       "      <td>NaN</td>\n",
       "    </tr>\n",
       "    <tr>\n",
       "      <th>2020-01-04</th>\n",
       "      <td>1.0</td>\n",
       "      <td>0.015</td>\n",
       "      <td>0.045</td>\n",
       "      <td>0.051</td>\n",
       "      <td>0.053</td>\n",
       "      <td>0.057</td>\n",
       "      <td>0.070</td>\n",
       "      <td>0.054</td>\n",
       "      <td>0.042</td>\n",
       "      <td>0.049</td>\n",
       "      <td>...</td>\n",
       "      <td>0.036</td>\n",
       "      <td>0.032</td>\n",
       "      <td>0.032</td>\n",
       "      <td>0.026</td>\n",
       "      <td>0.025</td>\n",
       "      <td>0.027</td>\n",
       "      <td>0.022</td>\n",
       "      <td>NaN</td>\n",
       "      <td>NaN</td>\n",
       "      <td>NaN</td>\n",
       "    </tr>\n",
       "    <tr>\n",
       "      <th>2020-01-05</th>\n",
       "      <td>1.0</td>\n",
       "      <td>0.020</td>\n",
       "      <td>0.045</td>\n",
       "      <td>0.046</td>\n",
       "      <td>0.044</td>\n",
       "      <td>0.048</td>\n",
       "      <td>0.079</td>\n",
       "      <td>0.052</td>\n",
       "      <td>0.039</td>\n",
       "      <td>0.054</td>\n",
       "      <td>...</td>\n",
       "      <td>0.034</td>\n",
       "      <td>0.038</td>\n",
       "      <td>0.035</td>\n",
       "      <td>0.037</td>\n",
       "      <td>0.032</td>\n",
       "      <td>0.036</td>\n",
       "      <td>NaN</td>\n",
       "      <td>NaN</td>\n",
       "      <td>NaN</td>\n",
       "      <td>NaN</td>\n",
       "    </tr>\n",
       "    <tr>\n",
       "      <th>2020-01-06</th>\n",
       "      <td>1.0</td>\n",
       "      <td>0.029</td>\n",
       "      <td>0.045</td>\n",
       "      <td>0.050</td>\n",
       "      <td>0.038</td>\n",
       "      <td>0.047</td>\n",
       "      <td>0.066</td>\n",
       "      <td>0.059</td>\n",
       "      <td>0.052</td>\n",
       "      <td>0.050</td>\n",
       "      <td>...</td>\n",
       "      <td>0.040</td>\n",
       "      <td>0.036</td>\n",
       "      <td>0.029</td>\n",
       "      <td>0.033</td>\n",
       "      <td>0.031</td>\n",
       "      <td>NaN</td>\n",
       "      <td>NaN</td>\n",
       "      <td>NaN</td>\n",
       "      <td>NaN</td>\n",
       "      <td>NaN</td>\n",
       "    </tr>\n",
       "    <tr>\n",
       "      <th>2020-01-07</th>\n",
       "      <td>1.0</td>\n",
       "      <td>0.019</td>\n",
       "      <td>0.049</td>\n",
       "      <td>0.044</td>\n",
       "      <td>0.064</td>\n",
       "      <td>0.050</td>\n",
       "      <td>0.085</td>\n",
       "      <td>0.051</td>\n",
       "      <td>0.057</td>\n",
       "      <td>0.053</td>\n",
       "      <td>...</td>\n",
       "      <td>0.039</td>\n",
       "      <td>0.043</td>\n",
       "      <td>0.038</td>\n",
       "      <td>0.033</td>\n",
       "      <td>NaN</td>\n",
       "      <td>NaN</td>\n",
       "      <td>NaN</td>\n",
       "      <td>NaN</td>\n",
       "      <td>NaN</td>\n",
       "      <td>NaN</td>\n",
       "    </tr>\n",
       "    <tr>\n",
       "      <th>2020-01-08</th>\n",
       "      <td>1.0</td>\n",
       "      <td>0.022</td>\n",
       "      <td>0.040</td>\n",
       "      <td>0.043</td>\n",
       "      <td>0.051</td>\n",
       "      <td>0.050</td>\n",
       "      <td>0.085</td>\n",
       "      <td>0.050</td>\n",
       "      <td>0.045</td>\n",
       "      <td>0.062</td>\n",
       "      <td>...</td>\n",
       "      <td>0.035</td>\n",
       "      <td>0.041</td>\n",
       "      <td>0.030</td>\n",
       "      <td>NaN</td>\n",
       "      <td>NaN</td>\n",
       "      <td>NaN</td>\n",
       "      <td>NaN</td>\n",
       "      <td>NaN</td>\n",
       "      <td>NaN</td>\n",
       "      <td>NaN</td>\n",
       "    </tr>\n",
       "    <tr>\n",
       "      <th>2020-01-09</th>\n",
       "      <td>1.0</td>\n",
       "      <td>0.019</td>\n",
       "      <td>0.040</td>\n",
       "      <td>0.055</td>\n",
       "      <td>0.045</td>\n",
       "      <td>0.060</td>\n",
       "      <td>0.067</td>\n",
       "      <td>0.057</td>\n",
       "      <td>0.051</td>\n",
       "      <td>0.047</td>\n",
       "      <td>...</td>\n",
       "      <td>0.033</td>\n",
       "      <td>0.035</td>\n",
       "      <td>NaN</td>\n",
       "      <td>NaN</td>\n",
       "      <td>NaN</td>\n",
       "      <td>NaN</td>\n",
       "      <td>NaN</td>\n",
       "      <td>NaN</td>\n",
       "      <td>NaN</td>\n",
       "      <td>NaN</td>\n",
       "    </tr>\n",
       "    <tr>\n",
       "      <th>2020-01-10</th>\n",
       "      <td>1.0</td>\n",
       "      <td>0.019</td>\n",
       "      <td>0.037</td>\n",
       "      <td>0.051</td>\n",
       "      <td>0.043</td>\n",
       "      <td>0.059</td>\n",
       "      <td>0.071</td>\n",
       "      <td>0.056</td>\n",
       "      <td>0.045</td>\n",
       "      <td>0.048</td>\n",
       "      <td>...</td>\n",
       "      <td>0.038</td>\n",
       "      <td>NaN</td>\n",
       "      <td>NaN</td>\n",
       "      <td>NaN</td>\n",
       "      <td>NaN</td>\n",
       "      <td>NaN</td>\n",
       "      <td>NaN</td>\n",
       "      <td>NaN</td>\n",
       "      <td>NaN</td>\n",
       "      <td>NaN</td>\n",
       "    </tr>\n",
       "    <tr>\n",
       "      <th>2020-01-11</th>\n",
       "      <td>1.0</td>\n",
       "      <td>0.016</td>\n",
       "      <td>0.039</td>\n",
       "      <td>0.051</td>\n",
       "      <td>0.050</td>\n",
       "      <td>0.048</td>\n",
       "      <td>0.064</td>\n",
       "      <td>0.057</td>\n",
       "      <td>0.044</td>\n",
       "      <td>0.053</td>\n",
       "      <td>...</td>\n",
       "      <td>NaN</td>\n",
       "      <td>NaN</td>\n",
       "      <td>NaN</td>\n",
       "      <td>NaN</td>\n",
       "      <td>NaN</td>\n",
       "      <td>NaN</td>\n",
       "      <td>NaN</td>\n",
       "      <td>NaN</td>\n",
       "      <td>NaN</td>\n",
       "      <td>NaN</td>\n",
       "    </tr>\n",
       "    <tr>\n",
       "      <th>2020-01-12</th>\n",
       "      <td>1.0</td>\n",
       "      <td>0.019</td>\n",
       "      <td>0.045</td>\n",
       "      <td>0.041</td>\n",
       "      <td>0.056</td>\n",
       "      <td>0.070</td>\n",
       "      <td>0.059</td>\n",
       "      <td>0.048</td>\n",
       "      <td>0.051</td>\n",
       "      <td>0.056</td>\n",
       "      <td>...</td>\n",
       "      <td>NaN</td>\n",
       "      <td>NaN</td>\n",
       "      <td>NaN</td>\n",
       "      <td>NaN</td>\n",
       "      <td>NaN</td>\n",
       "      <td>NaN</td>\n",
       "      <td>NaN</td>\n",
       "      <td>NaN</td>\n",
       "      <td>NaN</td>\n",
       "      <td>NaN</td>\n",
       "    </tr>\n",
       "    <tr>\n",
       "      <th>2020-01-13</th>\n",
       "      <td>1.0</td>\n",
       "      <td>0.019</td>\n",
       "      <td>0.044</td>\n",
       "      <td>0.048</td>\n",
       "      <td>0.057</td>\n",
       "      <td>0.057</td>\n",
       "      <td>0.069</td>\n",
       "      <td>0.063</td>\n",
       "      <td>0.030</td>\n",
       "      <td>0.069</td>\n",
       "      <td>...</td>\n",
       "      <td>NaN</td>\n",
       "      <td>NaN</td>\n",
       "      <td>NaN</td>\n",
       "      <td>NaN</td>\n",
       "      <td>NaN</td>\n",
       "      <td>NaN</td>\n",
       "      <td>NaN</td>\n",
       "      <td>NaN</td>\n",
       "      <td>NaN</td>\n",
       "      <td>NaN</td>\n",
       "    </tr>\n",
       "    <tr>\n",
       "      <th>2020-01-14</th>\n",
       "      <td>1.0</td>\n",
       "      <td>0.017</td>\n",
       "      <td>0.045</td>\n",
       "      <td>0.054</td>\n",
       "      <td>0.065</td>\n",
       "      <td>0.056</td>\n",
       "      <td>0.065</td>\n",
       "      <td>0.063</td>\n",
       "      <td>0.072</td>\n",
       "      <td>0.041</td>\n",
       "      <td>...</td>\n",
       "      <td>NaN</td>\n",
       "      <td>NaN</td>\n",
       "      <td>NaN</td>\n",
       "      <td>NaN</td>\n",
       "      <td>NaN</td>\n",
       "      <td>NaN</td>\n",
       "      <td>NaN</td>\n",
       "      <td>NaN</td>\n",
       "      <td>NaN</td>\n",
       "      <td>NaN</td>\n",
       "    </tr>\n",
       "    <tr>\n",
       "      <th>2020-01-15</th>\n",
       "      <td>1.0</td>\n",
       "      <td>0.016</td>\n",
       "      <td>0.042</td>\n",
       "      <td>0.056</td>\n",
       "      <td>0.057</td>\n",
       "      <td>0.047</td>\n",
       "      <td>0.059</td>\n",
       "      <td>0.073</td>\n",
       "      <td>0.052</td>\n",
       "      <td>0.050</td>\n",
       "      <td>...</td>\n",
       "      <td>NaN</td>\n",
       "      <td>NaN</td>\n",
       "      <td>NaN</td>\n",
       "      <td>NaN</td>\n",
       "      <td>NaN</td>\n",
       "      <td>NaN</td>\n",
       "      <td>NaN</td>\n",
       "      <td>NaN</td>\n",
       "      <td>NaN</td>\n",
       "      <td>NaN</td>\n",
       "    </tr>\n",
       "    <tr>\n",
       "      <th>2020-01-16</th>\n",
       "      <td>1.0</td>\n",
       "      <td>0.023</td>\n",
       "      <td>0.041</td>\n",
       "      <td>0.048</td>\n",
       "      <td>0.058</td>\n",
       "      <td>0.062</td>\n",
       "      <td>0.070</td>\n",
       "      <td>0.059</td>\n",
       "      <td>0.043</td>\n",
       "      <td>0.058</td>\n",
       "      <td>...</td>\n",
       "      <td>NaN</td>\n",
       "      <td>NaN</td>\n",
       "      <td>NaN</td>\n",
       "      <td>NaN</td>\n",
       "      <td>NaN</td>\n",
       "      <td>NaN</td>\n",
       "      <td>NaN</td>\n",
       "      <td>NaN</td>\n",
       "      <td>NaN</td>\n",
       "      <td>NaN</td>\n",
       "    </tr>\n",
       "    <tr>\n",
       "      <th>2020-01-17</th>\n",
       "      <td>1.0</td>\n",
       "      <td>0.020</td>\n",
       "      <td>0.035</td>\n",
       "      <td>0.039</td>\n",
       "      <td>0.049</td>\n",
       "      <td>0.048</td>\n",
       "      <td>0.064</td>\n",
       "      <td>0.049</td>\n",
       "      <td>0.051</td>\n",
       "      <td>0.039</td>\n",
       "      <td>...</td>\n",
       "      <td>NaN</td>\n",
       "      <td>NaN</td>\n",
       "      <td>NaN</td>\n",
       "      <td>NaN</td>\n",
       "      <td>NaN</td>\n",
       "      <td>NaN</td>\n",
       "      <td>NaN</td>\n",
       "      <td>NaN</td>\n",
       "      <td>NaN</td>\n",
       "      <td>NaN</td>\n",
       "    </tr>\n",
       "    <tr>\n",
       "      <th>2020-01-18</th>\n",
       "      <td>1.0</td>\n",
       "      <td>0.031</td>\n",
       "      <td>0.042</td>\n",
       "      <td>0.047</td>\n",
       "      <td>0.051</td>\n",
       "      <td>0.066</td>\n",
       "      <td>0.074</td>\n",
       "      <td>0.070</td>\n",
       "      <td>0.046</td>\n",
       "      <td>0.036</td>\n",
       "      <td>...</td>\n",
       "      <td>NaN</td>\n",
       "      <td>NaN</td>\n",
       "      <td>NaN</td>\n",
       "      <td>NaN</td>\n",
       "      <td>NaN</td>\n",
       "      <td>NaN</td>\n",
       "      <td>NaN</td>\n",
       "      <td>NaN</td>\n",
       "      <td>NaN</td>\n",
       "      <td>NaN</td>\n",
       "    </tr>\n",
       "    <tr>\n",
       "      <th>2020-01-19</th>\n",
       "      <td>1.0</td>\n",
       "      <td>0.027</td>\n",
       "      <td>0.038</td>\n",
       "      <td>0.043</td>\n",
       "      <td>0.048</td>\n",
       "      <td>0.059</td>\n",
       "      <td>0.069</td>\n",
       "      <td>0.044</td>\n",
       "      <td>0.048</td>\n",
       "      <td>0.059</td>\n",
       "      <td>...</td>\n",
       "      <td>NaN</td>\n",
       "      <td>NaN</td>\n",
       "      <td>NaN</td>\n",
       "      <td>NaN</td>\n",
       "      <td>NaN</td>\n",
       "      <td>NaN</td>\n",
       "      <td>NaN</td>\n",
       "      <td>NaN</td>\n",
       "      <td>NaN</td>\n",
       "      <td>NaN</td>\n",
       "    </tr>\n",
       "    <tr>\n",
       "      <th>2020-01-20</th>\n",
       "      <td>1.0</td>\n",
       "      <td>0.016</td>\n",
       "      <td>0.038</td>\n",
       "      <td>0.050</td>\n",
       "      <td>0.063</td>\n",
       "      <td>0.065</td>\n",
       "      <td>0.071</td>\n",
       "      <td>0.064</td>\n",
       "      <td>0.047</td>\n",
       "      <td>0.058</td>\n",
       "      <td>...</td>\n",
       "      <td>NaN</td>\n",
       "      <td>NaN</td>\n",
       "      <td>NaN</td>\n",
       "      <td>NaN</td>\n",
       "      <td>NaN</td>\n",
       "      <td>NaN</td>\n",
       "      <td>NaN</td>\n",
       "      <td>NaN</td>\n",
       "      <td>NaN</td>\n",
       "      <td>NaN</td>\n",
       "    </tr>\n",
       "    <tr>\n",
       "      <th>2020-01-21</th>\n",
       "      <td>1.0</td>\n",
       "      <td>0.029</td>\n",
       "      <td>0.034</td>\n",
       "      <td>0.055</td>\n",
       "      <td>0.057</td>\n",
       "      <td>0.050</td>\n",
       "      <td>0.065</td>\n",
       "      <td>0.061</td>\n",
       "      <td>0.046</td>\n",
       "      <td>0.053</td>\n",
       "      <td>...</td>\n",
       "      <td>NaN</td>\n",
       "      <td>NaN</td>\n",
       "      <td>NaN</td>\n",
       "      <td>NaN</td>\n",
       "      <td>NaN</td>\n",
       "      <td>NaN</td>\n",
       "      <td>NaN</td>\n",
       "      <td>NaN</td>\n",
       "      <td>NaN</td>\n",
       "      <td>NaN</td>\n",
       "    </tr>\n",
       "    <tr>\n",
       "      <th>2020-01-22</th>\n",
       "      <td>1.0</td>\n",
       "      <td>0.018</td>\n",
       "      <td>0.033</td>\n",
       "      <td>0.047</td>\n",
       "      <td>0.049</td>\n",
       "      <td>0.053</td>\n",
       "      <td>0.068</td>\n",
       "      <td>0.050</td>\n",
       "      <td>0.045</td>\n",
       "      <td>0.040</td>\n",
       "      <td>...</td>\n",
       "      <td>NaN</td>\n",
       "      <td>NaN</td>\n",
       "      <td>NaN</td>\n",
       "      <td>NaN</td>\n",
       "      <td>NaN</td>\n",
       "      <td>NaN</td>\n",
       "      <td>NaN</td>\n",
       "      <td>NaN</td>\n",
       "      <td>NaN</td>\n",
       "      <td>NaN</td>\n",
       "    </tr>\n",
       "    <tr>\n",
       "      <th>2020-01-23</th>\n",
       "      <td>1.0</td>\n",
       "      <td>0.016</td>\n",
       "      <td>0.038</td>\n",
       "      <td>0.039</td>\n",
       "      <td>0.051</td>\n",
       "      <td>0.062</td>\n",
       "      <td>0.080</td>\n",
       "      <td>0.061</td>\n",
       "      <td>0.049</td>\n",
       "      <td>0.049</td>\n",
       "      <td>...</td>\n",
       "      <td>NaN</td>\n",
       "      <td>NaN</td>\n",
       "      <td>NaN</td>\n",
       "      <td>NaN</td>\n",
       "      <td>NaN</td>\n",
       "      <td>NaN</td>\n",
       "      <td>NaN</td>\n",
       "      <td>NaN</td>\n",
       "      <td>NaN</td>\n",
       "      <td>NaN</td>\n",
       "    </tr>\n",
       "    <tr>\n",
       "      <th>2020-01-24</th>\n",
       "      <td>1.0</td>\n",
       "      <td>0.018</td>\n",
       "      <td>0.043</td>\n",
       "      <td>0.046</td>\n",
       "      <td>0.046</td>\n",
       "      <td>0.053</td>\n",
       "      <td>0.063</td>\n",
       "      <td>0.054</td>\n",
       "      <td>0.050</td>\n",
       "      <td>NaN</td>\n",
       "      <td>...</td>\n",
       "      <td>NaN</td>\n",
       "      <td>NaN</td>\n",
       "      <td>NaN</td>\n",
       "      <td>NaN</td>\n",
       "      <td>NaN</td>\n",
       "      <td>NaN</td>\n",
       "      <td>NaN</td>\n",
       "      <td>NaN</td>\n",
       "      <td>NaN</td>\n",
       "      <td>NaN</td>\n",
       "    </tr>\n",
       "    <tr>\n",
       "      <th>2020-01-25</th>\n",
       "      <td>1.0</td>\n",
       "      <td>0.018</td>\n",
       "      <td>0.042</td>\n",
       "      <td>0.043</td>\n",
       "      <td>0.050</td>\n",
       "      <td>0.047</td>\n",
       "      <td>0.072</td>\n",
       "      <td>0.055</td>\n",
       "      <td>NaN</td>\n",
       "      <td>NaN</td>\n",
       "      <td>...</td>\n",
       "      <td>NaN</td>\n",
       "      <td>NaN</td>\n",
       "      <td>NaN</td>\n",
       "      <td>NaN</td>\n",
       "      <td>NaN</td>\n",
       "      <td>NaN</td>\n",
       "      <td>NaN</td>\n",
       "      <td>NaN</td>\n",
       "      <td>NaN</td>\n",
       "      <td>NaN</td>\n",
       "    </tr>\n",
       "    <tr>\n",
       "      <th>2020-01-26</th>\n",
       "      <td>1.0</td>\n",
       "      <td>0.015</td>\n",
       "      <td>0.044</td>\n",
       "      <td>0.061</td>\n",
       "      <td>0.060</td>\n",
       "      <td>0.070</td>\n",
       "      <td>0.056</td>\n",
       "      <td>NaN</td>\n",
       "      <td>NaN</td>\n",
       "      <td>NaN</td>\n",
       "      <td>...</td>\n",
       "      <td>NaN</td>\n",
       "      <td>NaN</td>\n",
       "      <td>NaN</td>\n",
       "      <td>NaN</td>\n",
       "      <td>NaN</td>\n",
       "      <td>NaN</td>\n",
       "      <td>NaN</td>\n",
       "      <td>NaN</td>\n",
       "      <td>NaN</td>\n",
       "      <td>NaN</td>\n",
       "    </tr>\n",
       "    <tr>\n",
       "      <th>2020-01-27</th>\n",
       "      <td>1.0</td>\n",
       "      <td>0.017</td>\n",
       "      <td>0.035</td>\n",
       "      <td>0.047</td>\n",
       "      <td>0.054</td>\n",
       "      <td>0.051</td>\n",
       "      <td>NaN</td>\n",
       "      <td>NaN</td>\n",
       "      <td>NaN</td>\n",
       "      <td>NaN</td>\n",
       "      <td>...</td>\n",
       "      <td>NaN</td>\n",
       "      <td>NaN</td>\n",
       "      <td>NaN</td>\n",
       "      <td>NaN</td>\n",
       "      <td>NaN</td>\n",
       "      <td>NaN</td>\n",
       "      <td>NaN</td>\n",
       "      <td>NaN</td>\n",
       "      <td>NaN</td>\n",
       "      <td>NaN</td>\n",
       "    </tr>\n",
       "    <tr>\n",
       "      <th>2020-01-28</th>\n",
       "      <td>1.0</td>\n",
       "      <td>0.024</td>\n",
       "      <td>0.044</td>\n",
       "      <td>0.051</td>\n",
       "      <td>0.065</td>\n",
       "      <td>NaN</td>\n",
       "      <td>NaN</td>\n",
       "      <td>NaN</td>\n",
       "      <td>NaN</td>\n",
       "      <td>NaN</td>\n",
       "      <td>...</td>\n",
       "      <td>NaN</td>\n",
       "      <td>NaN</td>\n",
       "      <td>NaN</td>\n",
       "      <td>NaN</td>\n",
       "      <td>NaN</td>\n",
       "      <td>NaN</td>\n",
       "      <td>NaN</td>\n",
       "      <td>NaN</td>\n",
       "      <td>NaN</td>\n",
       "      <td>NaN</td>\n",
       "    </tr>\n",
       "    <tr>\n",
       "      <th>2020-01-29</th>\n",
       "      <td>1.0</td>\n",
       "      <td>0.022</td>\n",
       "      <td>0.041</td>\n",
       "      <td>0.042</td>\n",
       "      <td>NaN</td>\n",
       "      <td>NaN</td>\n",
       "      <td>NaN</td>\n",
       "      <td>NaN</td>\n",
       "      <td>NaN</td>\n",
       "      <td>NaN</td>\n",
       "      <td>...</td>\n",
       "      <td>NaN</td>\n",
       "      <td>NaN</td>\n",
       "      <td>NaN</td>\n",
       "      <td>NaN</td>\n",
       "      <td>NaN</td>\n",
       "      <td>NaN</td>\n",
       "      <td>NaN</td>\n",
       "      <td>NaN</td>\n",
       "      <td>NaN</td>\n",
       "      <td>NaN</td>\n",
       "    </tr>\n",
       "    <tr>\n",
       "      <th>2020-01-30</th>\n",
       "      <td>1.0</td>\n",
       "      <td>0.020</td>\n",
       "      <td>0.042</td>\n",
       "      <td>NaN</td>\n",
       "      <td>NaN</td>\n",
       "      <td>NaN</td>\n",
       "      <td>NaN</td>\n",
       "      <td>NaN</td>\n",
       "      <td>NaN</td>\n",
       "      <td>NaN</td>\n",
       "      <td>...</td>\n",
       "      <td>NaN</td>\n",
       "      <td>NaN</td>\n",
       "      <td>NaN</td>\n",
       "      <td>NaN</td>\n",
       "      <td>NaN</td>\n",
       "      <td>NaN</td>\n",
       "      <td>NaN</td>\n",
       "      <td>NaN</td>\n",
       "      <td>NaN</td>\n",
       "      <td>NaN</td>\n",
       "    </tr>\n",
       "    <tr>\n",
       "      <th>2020-01-31</th>\n",
       "      <td>1.0</td>\n",
       "      <td>0.015</td>\n",
       "      <td>NaN</td>\n",
       "      <td>NaN</td>\n",
       "      <td>NaN</td>\n",
       "      <td>NaN</td>\n",
       "      <td>NaN</td>\n",
       "      <td>NaN</td>\n",
       "      <td>NaN</td>\n",
       "      <td>NaN</td>\n",
       "      <td>...</td>\n",
       "      <td>NaN</td>\n",
       "      <td>NaN</td>\n",
       "      <td>NaN</td>\n",
       "      <td>NaN</td>\n",
       "      <td>NaN</td>\n",
       "      <td>NaN</td>\n",
       "      <td>NaN</td>\n",
       "      <td>NaN</td>\n",
       "      <td>NaN</td>\n",
       "      <td>NaN</td>\n",
       "    </tr>\n",
       "    <tr>\n",
       "      <th>2020-02-01</th>\n",
       "      <td>1.0</td>\n",
       "      <td>NaN</td>\n",
       "      <td>NaN</td>\n",
       "      <td>NaN</td>\n",
       "      <td>NaN</td>\n",
       "      <td>NaN</td>\n",
       "      <td>NaN</td>\n",
       "      <td>NaN</td>\n",
       "      <td>NaN</td>\n",
       "      <td>NaN</td>\n",
       "      <td>...</td>\n",
       "      <td>NaN</td>\n",
       "      <td>NaN</td>\n",
       "      <td>NaN</td>\n",
       "      <td>NaN</td>\n",
       "      <td>NaN</td>\n",
       "      <td>NaN</td>\n",
       "      <td>NaN</td>\n",
       "      <td>NaN</td>\n",
       "      <td>NaN</td>\n",
       "      <td>NaN</td>\n",
       "    </tr>\n",
       "  </tbody>\n",
       "</table>\n",
       "<p>32 rows × 32 columns</p>\n",
       "</div>"
      ],
      "text/plain": [
       "seniority    0      1      2      3      4      5      6      7      8   \\\n",
       "cohort                                                                    \n",
       "2020-01-01  1.0  0.026  0.045  0.034  0.057  0.058  0.075  0.050  0.044   \n",
       "2020-01-02  1.0  0.024  0.045  0.052  0.048  0.058  0.077  0.059  0.056   \n",
       "2020-01-03  1.0  0.023  0.034  0.044  0.045  0.069  0.075  0.054  0.045   \n",
       "2020-01-04  1.0  0.015  0.045  0.051  0.053  0.057  0.070  0.054  0.042   \n",
       "2020-01-05  1.0  0.020  0.045  0.046  0.044  0.048  0.079  0.052  0.039   \n",
       "2020-01-06  1.0  0.029  0.045  0.050  0.038  0.047  0.066  0.059  0.052   \n",
       "2020-01-07  1.0  0.019  0.049  0.044  0.064  0.050  0.085  0.051  0.057   \n",
       "2020-01-08  1.0  0.022  0.040  0.043  0.051  0.050  0.085  0.050  0.045   \n",
       "2020-01-09  1.0  0.019  0.040  0.055  0.045  0.060  0.067  0.057  0.051   \n",
       "2020-01-10  1.0  0.019  0.037  0.051  0.043  0.059  0.071  0.056  0.045   \n",
       "2020-01-11  1.0  0.016  0.039  0.051  0.050  0.048  0.064  0.057  0.044   \n",
       "2020-01-12  1.0  0.019  0.045  0.041  0.056  0.070  0.059  0.048  0.051   \n",
       "2020-01-13  1.0  0.019  0.044  0.048  0.057  0.057  0.069  0.063  0.030   \n",
       "2020-01-14  1.0  0.017  0.045  0.054  0.065  0.056  0.065  0.063  0.072   \n",
       "2020-01-15  1.0  0.016  0.042  0.056  0.057  0.047  0.059  0.073  0.052   \n",
       "2020-01-16  1.0  0.023  0.041  0.048  0.058  0.062  0.070  0.059  0.043   \n",
       "2020-01-17  1.0  0.020  0.035  0.039  0.049  0.048  0.064  0.049  0.051   \n",
       "2020-01-18  1.0  0.031  0.042  0.047  0.051  0.066  0.074  0.070  0.046   \n",
       "2020-01-19  1.0  0.027  0.038  0.043  0.048  0.059  0.069  0.044  0.048   \n",
       "2020-01-20  1.0  0.016  0.038  0.050  0.063  0.065  0.071  0.064  0.047   \n",
       "2020-01-21  1.0  0.029  0.034  0.055  0.057  0.050  0.065  0.061  0.046   \n",
       "2020-01-22  1.0  0.018  0.033  0.047  0.049  0.053  0.068  0.050  0.045   \n",
       "2020-01-23  1.0  0.016  0.038  0.039  0.051  0.062  0.080  0.061  0.049   \n",
       "2020-01-24  1.0  0.018  0.043  0.046  0.046  0.053  0.063  0.054  0.050   \n",
       "2020-01-25  1.0  0.018  0.042  0.043  0.050  0.047  0.072  0.055    NaN   \n",
       "2020-01-26  1.0  0.015  0.044  0.061  0.060  0.070  0.056    NaN    NaN   \n",
       "2020-01-27  1.0  0.017  0.035  0.047  0.054  0.051    NaN    NaN    NaN   \n",
       "2020-01-28  1.0  0.024  0.044  0.051  0.065    NaN    NaN    NaN    NaN   \n",
       "2020-01-29  1.0  0.022  0.041  0.042    NaN    NaN    NaN    NaN    NaN   \n",
       "2020-01-30  1.0  0.020  0.042    NaN    NaN    NaN    NaN    NaN    NaN   \n",
       "2020-01-31  1.0  0.015    NaN    NaN    NaN    NaN    NaN    NaN    NaN   \n",
       "2020-02-01  1.0    NaN    NaN    NaN    NaN    NaN    NaN    NaN    NaN   \n",
       "\n",
       "seniority      9   ...     22     23     24     25     26     27     28  \\\n",
       "cohort             ...                                                    \n",
       "2020-01-01  0.044  ...  0.035  0.027  0.038  0.031  0.040  0.036  0.033   \n",
       "2020-01-02  0.053  ...  0.043  0.041  0.034  0.038  0.034  0.031  0.034   \n",
       "2020-01-03  0.042  ...  0.038  0.031  0.032  0.038  0.036  0.025  0.024   \n",
       "2020-01-04  0.049  ...  0.036  0.032  0.032  0.026  0.025  0.027  0.022   \n",
       "2020-01-05  0.054  ...  0.034  0.038  0.035  0.037  0.032  0.036    NaN   \n",
       "2020-01-06  0.050  ...  0.040  0.036  0.029  0.033  0.031    NaN    NaN   \n",
       "2020-01-07  0.053  ...  0.039  0.043  0.038  0.033    NaN    NaN    NaN   \n",
       "2020-01-08  0.062  ...  0.035  0.041  0.030    NaN    NaN    NaN    NaN   \n",
       "2020-01-09  0.047  ...  0.033  0.035    NaN    NaN    NaN    NaN    NaN   \n",
       "2020-01-10  0.048  ...  0.038    NaN    NaN    NaN    NaN    NaN    NaN   \n",
       "2020-01-11  0.053  ...    NaN    NaN    NaN    NaN    NaN    NaN    NaN   \n",
       "2020-01-12  0.056  ...    NaN    NaN    NaN    NaN    NaN    NaN    NaN   \n",
       "2020-01-13  0.069  ...    NaN    NaN    NaN    NaN    NaN    NaN    NaN   \n",
       "2020-01-14  0.041  ...    NaN    NaN    NaN    NaN    NaN    NaN    NaN   \n",
       "2020-01-15  0.050  ...    NaN    NaN    NaN    NaN    NaN    NaN    NaN   \n",
       "2020-01-16  0.058  ...    NaN    NaN    NaN    NaN    NaN    NaN    NaN   \n",
       "2020-01-17  0.039  ...    NaN    NaN    NaN    NaN    NaN    NaN    NaN   \n",
       "2020-01-18  0.036  ...    NaN    NaN    NaN    NaN    NaN    NaN    NaN   \n",
       "2020-01-19  0.059  ...    NaN    NaN    NaN    NaN    NaN    NaN    NaN   \n",
       "2020-01-20  0.058  ...    NaN    NaN    NaN    NaN    NaN    NaN    NaN   \n",
       "2020-01-21  0.053  ...    NaN    NaN    NaN    NaN    NaN    NaN    NaN   \n",
       "2020-01-22  0.040  ...    NaN    NaN    NaN    NaN    NaN    NaN    NaN   \n",
       "2020-01-23  0.049  ...    NaN    NaN    NaN    NaN    NaN    NaN    NaN   \n",
       "2020-01-24    NaN  ...    NaN    NaN    NaN    NaN    NaN    NaN    NaN   \n",
       "2020-01-25    NaN  ...    NaN    NaN    NaN    NaN    NaN    NaN    NaN   \n",
       "2020-01-26    NaN  ...    NaN    NaN    NaN    NaN    NaN    NaN    NaN   \n",
       "2020-01-27    NaN  ...    NaN    NaN    NaN    NaN    NaN    NaN    NaN   \n",
       "2020-01-28    NaN  ...    NaN    NaN    NaN    NaN    NaN    NaN    NaN   \n",
       "2020-01-29    NaN  ...    NaN    NaN    NaN    NaN    NaN    NaN    NaN   \n",
       "2020-01-30    NaN  ...    NaN    NaN    NaN    NaN    NaN    NaN    NaN   \n",
       "2020-01-31    NaN  ...    NaN    NaN    NaN    NaN    NaN    NaN    NaN   \n",
       "2020-02-01    NaN  ...    NaN    NaN    NaN    NaN    NaN    NaN    NaN   \n",
       "\n",
       "seniority      29     30     31  \n",
       "cohort                           \n",
       "2020-01-01  0.033  0.024  0.031  \n",
       "2020-01-02  0.031  0.028    NaN  \n",
       "2020-01-03  0.029    NaN    NaN  \n",
       "2020-01-04    NaN    NaN    NaN  \n",
       "2020-01-05    NaN    NaN    NaN  \n",
       "2020-01-06    NaN    NaN    NaN  \n",
       "2020-01-07    NaN    NaN    NaN  \n",
       "2020-01-08    NaN    NaN    NaN  \n",
       "2020-01-09    NaN    NaN    NaN  \n",
       "2020-01-10    NaN    NaN    NaN  \n",
       "2020-01-11    NaN    NaN    NaN  \n",
       "2020-01-12    NaN    NaN    NaN  \n",
       "2020-01-13    NaN    NaN    NaN  \n",
       "2020-01-14    NaN    NaN    NaN  \n",
       "2020-01-15    NaN    NaN    NaN  \n",
       "2020-01-16    NaN    NaN    NaN  \n",
       "2020-01-17    NaN    NaN    NaN  \n",
       "2020-01-18    NaN    NaN    NaN  \n",
       "2020-01-19    NaN    NaN    NaN  \n",
       "2020-01-20    NaN    NaN    NaN  \n",
       "2020-01-21    NaN    NaN    NaN  \n",
       "2020-01-22    NaN    NaN    NaN  \n",
       "2020-01-23    NaN    NaN    NaN  \n",
       "2020-01-24    NaN    NaN    NaN  \n",
       "2020-01-25    NaN    NaN    NaN  \n",
       "2020-01-26    NaN    NaN    NaN  \n",
       "2020-01-27    NaN    NaN    NaN  \n",
       "2020-01-28    NaN    NaN    NaN  \n",
       "2020-01-29    NaN    NaN    NaN  \n",
       "2020-01-30    NaN    NaN    NaN  \n",
       "2020-01-31    NaN    NaN    NaN  \n",
       "2020-02-01    NaN    NaN    NaN  \n",
       "\n",
       "[32 rows x 32 columns]"
      ]
     },
     "execution_count": 43,
     "metadata": {},
     "output_type": "execute_result"
    }
   ],
   "source": [
    "# Проверим работу функции на произвольном временном периоде\n",
    "\n",
    "retention = cohort_retention_rate(df, \"2020-01-01\", \"2020-02-01\")\n",
    "\n",
    "retention"
   ]
  },
  {
   "cell_type": "code",
   "execution_count": 44,
   "metadata": {},
   "outputs": [
    {
     "data": {
      "text/plain": [
       "<matplotlib.axes._subplots.AxesSubplot at 0x7fa33608ea20>"
      ]
     },
     "execution_count": 44,
     "metadata": {},
     "output_type": "execute_result"
    },
    {
     "data": {
      "image/png": "[encoded data removed]",
      "text/plain": [
       "<Figure size 3888x1944 with 2 Axes>"
      ]
     },
     "metadata": {},
     "output_type": "display_data"
    }
   ],
   "source": [
    "# Построим тепловую карту для полученных значений, при этом:\n",
    "\n",
    "# Подгоним размер тепловой карты, чтобы она убралась полностью\n",
    "# и названия когорт не наезжали на значения\n",
    "plt.figure(figsize=(54, 27)) \n",
    "\n",
    "# Зададим ей название\n",
    "plt.title('Retention Rate игроков по дням от даты регистрации')\n",
    "\n",
    "# Отобразим значения показателя retention в процентах\n",
    "sns.heatmap(data=retention, annot=True, fmt='.0%', cmap=\"crest\")"
   ]
  },
  {
   "cell_type": "markdown",
   "metadata": {},
   "source": [
    "&nbsp;\n",
    "### Задача 2. Анализ A/B теста акционных предложений"
   ]
  },
  {
   "cell_type": "markdown",
   "metadata": {},
   "source": [
    "Имеются результаты A/B теста, в котором двум группам пользователей предлагались различные наборы акционных предложений. Известно, что ARPU в тестовой группе выше на 5%, чем в контрольной. При этом в контрольной группе 1928 игроков из 202103 оказались платящими, а в тестовой – 1805 из 202667.\n",
    "\n",
    "#### Цель:\n",
    "Определить какой набор предложений можно считать лучшим."
   ]
  },
  {
   "cell_type": "markdown",
   "metadata": {},
   "source": [
    "#### Этап 1. Импорт файлов из Я.Диска и разведочный анализ (EDA)"
   ]
  },
  {
   "cell_type": "code",
   "execution_count": 45,
   "metadata": {},
   "outputs": [],
   "source": [
    "# Используем api \n",
    "base_url = 'https://cloud-api.yandex.net/v1/disk/public/resources/download?' \n",
    "public_key = 'https://disk.yandex.ru/d/SOkIsD5A8xlI7Q' \n",
    " \n",
    "# Получаем url \n",
    "final_url = base_url + urlencode(dict(public_key=public_key)) \n",
    "response = requests.get(final_url) \n",
    "download_url = response.json()['href'] \n",
    " \n",
    "# Загружаем файл в df \n",
    "download_response = requests.get(download_url) \n",
    "df = pd.read_csv(download_url, sep=';') "
   ]
  },
  {
   "cell_type": "code",
   "execution_count": 46,
   "metadata": {},
   "outputs": [
    {
     "data": {
      "text/html": [
       "<div>\n",
       "<style scoped>\n",
       "    .dataframe tbody tr th:only-of-type {\n",
       "        vertical-align: middle;\n",
       "    }\n",
       "\n",
       "    .dataframe tbody tr th {\n",
       "        vertical-align: top;\n",
       "    }\n",
       "\n",
       "    .dataframe thead th {\n",
       "        text-align: right;\n",
       "    }\n",
       "</style>\n",
       "<table border=\"1\" class=\"dataframe\">\n",
       "  <thead>\n",
       "    <tr style=\"text-align: right;\">\n",
       "      <th></th>\n",
       "      <th>user_id</th>\n",
       "      <th>revenue</th>\n",
       "      <th>testgroup</th>\n",
       "    </tr>\n",
       "  </thead>\n",
       "  <tbody>\n",
       "    <tr>\n",
       "      <th>0</th>\n",
       "      <td>1</td>\n",
       "      <td>0</td>\n",
       "      <td>b</td>\n",
       "    </tr>\n",
       "    <tr>\n",
       "      <th>1</th>\n",
       "      <td>2</td>\n",
       "      <td>0</td>\n",
       "      <td>a</td>\n",
       "    </tr>\n",
       "    <tr>\n",
       "      <th>2</th>\n",
       "      <td>3</td>\n",
       "      <td>0</td>\n",
       "      <td>a</td>\n",
       "    </tr>\n",
       "    <tr>\n",
       "      <th>3</th>\n",
       "      <td>4</td>\n",
       "      <td>0</td>\n",
       "      <td>b</td>\n",
       "    </tr>\n",
       "    <tr>\n",
       "      <th>4</th>\n",
       "      <td>5</td>\n",
       "      <td>0</td>\n",
       "      <td>b</td>\n",
       "    </tr>\n",
       "  </tbody>\n",
       "</table>\n",
       "</div>"
      ],
      "text/plain": [
       "   user_id  revenue testgroup\n",
       "0        1        0         b\n",
       "1        2        0         a\n",
       "2        3        0         a\n",
       "3        4        0         b\n",
       "4        5        0         b"
      ]
     },
     "execution_count": 46,
     "metadata": {},
     "output_type": "execute_result"
    }
   ],
   "source": [
    "# Проверим корректность подгрузки файла\n",
    "\n",
    "df.head()"
   ]
  },
  {
   "cell_type": "code",
   "execution_count": 47,
   "metadata": {},
   "outputs": [
    {
     "data": {
      "text/plain": [
       "user_id      0\n",
       "revenue      0\n",
       "testgroup    0\n",
       "dtype: int64"
      ]
     },
     "execution_count": 47,
     "metadata": {},
     "output_type": "execute_result"
    }
   ],
   "source": [
    "# Проверим датасет на наличие пропусков\n",
    "\n",
    "df.isna().sum()"
   ]
  },
  {
   "cell_type": "code",
   "execution_count": 48,
   "metadata": {},
   "outputs": [],
   "source": [
    "# Разобьем исходный датафрейм по категории отношения к тестовой группе\n",
    "\n",
    "df_a = df.copy()\n",
    "df_a = df_a.query('testgroup == \"a\"')"
   ]
  },
  {
   "cell_type": "code",
   "execution_count": 49,
   "metadata": {},
   "outputs": [
    {
     "data": {
      "text/html": [
       "<div>\n",
       "<style scoped>\n",
       "    .dataframe tbody tr th:only-of-type {\n",
       "        vertical-align: middle;\n",
       "    }\n",
       "\n",
       "    .dataframe tbody tr th {\n",
       "        vertical-align: top;\n",
       "    }\n",
       "\n",
       "    .dataframe thead th {\n",
       "        text-align: right;\n",
       "    }\n",
       "</style>\n",
       "<table border=\"1\" class=\"dataframe\">\n",
       "  <thead>\n",
       "    <tr style=\"text-align: right;\">\n",
       "      <th></th>\n",
       "      <th>user_id</th>\n",
       "      <th>revenue</th>\n",
       "      <th>testgroup</th>\n",
       "    </tr>\n",
       "  </thead>\n",
       "  <tbody>\n",
       "    <tr>\n",
       "      <th>1</th>\n",
       "      <td>2</td>\n",
       "      <td>0</td>\n",
       "      <td>a</td>\n",
       "    </tr>\n",
       "    <tr>\n",
       "      <th>2</th>\n",
       "      <td>3</td>\n",
       "      <td>0</td>\n",
       "      <td>a</td>\n",
       "    </tr>\n",
       "    <tr>\n",
       "      <th>9</th>\n",
       "      <td>10</td>\n",
       "      <td>0</td>\n",
       "      <td>a</td>\n",
       "    </tr>\n",
       "    <tr>\n",
       "      <th>10</th>\n",
       "      <td>11</td>\n",
       "      <td>0</td>\n",
       "      <td>a</td>\n",
       "    </tr>\n",
       "    <tr>\n",
       "      <th>11</th>\n",
       "      <td>12</td>\n",
       "      <td>0</td>\n",
       "      <td>a</td>\n",
       "    </tr>\n",
       "  </tbody>\n",
       "</table>\n",
       "</div>"
      ],
      "text/plain": [
       "    user_id  revenue testgroup\n",
       "1         2        0         a\n",
       "2         3        0         a\n",
       "9        10        0         a\n",
       "10       11        0         a\n",
       "11       12        0         a"
      ]
     },
     "execution_count": 49,
     "metadata": {},
     "output_type": "execute_result"
    }
   ],
   "source": [
    "# Убедимся в правильности разбивки\n",
    "\n",
    "df_a.head()"
   ]
  },
  {
   "cell_type": "code",
   "execution_count": 50,
   "metadata": {},
   "outputs": [
    {
     "data": {
      "text/plain": [
       "(202103, 3)"
      ]
     },
     "execution_count": 50,
     "metadata": {},
     "output_type": "execute_result"
    }
   ],
   "source": [
    "# Проверим описательные статистики, чтобы определить к какой группе относится категория A\n",
    "\n",
    "df_a.shape"
   ]
  },
  {
   "cell_type": "code",
   "execution_count": 51,
   "metadata": {},
   "outputs": [
    {
     "data": {
      "text/plain": [
       "user_id       int64\n",
       "revenue       int64\n",
       "testgroup    object\n",
       "dtype: object"
      ]
     },
     "execution_count": 51,
     "metadata": {},
     "output_type": "execute_result"
    }
   ],
   "source": [
    "df.dtypes"
   ]
  },
  {
   "cell_type": "code",
   "execution_count": 52,
   "metadata": {
    "scrolled": true
   },
   "outputs": [
    {
     "data": {
      "text/html": [
       "<div>\n",
       "<style scoped>\n",
       "    .dataframe tbody tr th:only-of-type {\n",
       "        vertical-align: middle;\n",
       "    }\n",
       "\n",
       "    .dataframe tbody tr th {\n",
       "        vertical-align: top;\n",
       "    }\n",
       "\n",
       "    .dataframe thead th {\n",
       "        text-align: right;\n",
       "    }\n",
       "</style>\n",
       "<table border=\"1\" class=\"dataframe\">\n",
       "  <thead>\n",
       "    <tr style=\"text-align: right;\">\n",
       "      <th></th>\n",
       "      <th>user_id</th>\n",
       "      <th>revenue</th>\n",
       "    </tr>\n",
       "  </thead>\n",
       "  <tbody>\n",
       "    <tr>\n",
       "      <th>count</th>\n",
       "      <td>202103.000000</td>\n",
       "      <td>202103.000000</td>\n",
       "    </tr>\n",
       "    <tr>\n",
       "      <th>mean</th>\n",
       "      <td>202555.909843</td>\n",
       "      <td>25.413720</td>\n",
       "    </tr>\n",
       "    <tr>\n",
       "      <th>std</th>\n",
       "      <td>116802.329266</td>\n",
       "      <td>920.768137</td>\n",
       "    </tr>\n",
       "    <tr>\n",
       "      <th>min</th>\n",
       "      <td>2.000000</td>\n",
       "      <td>0.000000</td>\n",
       "    </tr>\n",
       "    <tr>\n",
       "      <th>25%</th>\n",
       "      <td>101502.500000</td>\n",
       "      <td>0.000000</td>\n",
       "    </tr>\n",
       "    <tr>\n",
       "      <th>50%</th>\n",
       "      <td>202988.000000</td>\n",
       "      <td>0.000000</td>\n",
       "    </tr>\n",
       "    <tr>\n",
       "      <th>75%</th>\n",
       "      <td>303559.000000</td>\n",
       "      <td>0.000000</td>\n",
       "    </tr>\n",
       "    <tr>\n",
       "      <th>max</th>\n",
       "      <td>404769.000000</td>\n",
       "      <td>37433.000000</td>\n",
       "    </tr>\n",
       "  </tbody>\n",
       "</table>\n",
       "</div>"
      ],
      "text/plain": [
       "             user_id        revenue\n",
       "count  202103.000000  202103.000000\n",
       "mean   202555.909843      25.413720\n",
       "std    116802.329266     920.768137\n",
       "min         2.000000       0.000000\n",
       "25%    101502.500000       0.000000\n",
       "50%    202988.000000       0.000000\n",
       "75%    303559.000000       0.000000\n",
       "max    404769.000000   37433.000000"
      ]
     },
     "execution_count": 52,
     "metadata": {},
     "output_type": "execute_result"
    }
   ],
   "source": [
    "df_a.describe()"
   ]
  },
  {
   "cell_type": "code",
   "execution_count": 53,
   "metadata": {},
   "outputs": [
    {
     "data": {
      "text/plain": [
       "1928"
      ]
     },
     "execution_count": 53,
     "metadata": {},
     "output_type": "execute_result"
    }
   ],
   "source": [
    "# Подсчитаем кол-во платящих пользователей в группе А\n",
    "# Можем сделать вывод, что группа А - контрольная\n",
    "\n",
    "df_a_clients = df_a.query('revenue != 0').user_id.count()\n",
    "df_a_clients"
   ]
  },
  {
   "cell_type": "code",
   "execution_count": 54,
   "metadata": {},
   "outputs": [],
   "source": [
    "# Проведем аналогичные операции для группы B\n",
    "\n",
    "df_b = df.query('testgroup == \"b\"')"
   ]
  },
  {
   "cell_type": "code",
   "execution_count": 55,
   "metadata": {},
   "outputs": [
    {
     "data": {
      "text/html": [
       "<div>\n",
       "<style scoped>\n",
       "    .dataframe tbody tr th:only-of-type {\n",
       "        vertical-align: middle;\n",
       "    }\n",
       "\n",
       "    .dataframe tbody tr th {\n",
       "        vertical-align: top;\n",
       "    }\n",
       "\n",
       "    .dataframe thead th {\n",
       "        text-align: right;\n",
       "    }\n",
       "</style>\n",
       "<table border=\"1\" class=\"dataframe\">\n",
       "  <thead>\n",
       "    <tr style=\"text-align: right;\">\n",
       "      <th></th>\n",
       "      <th>user_id</th>\n",
       "      <th>revenue</th>\n",
       "      <th>testgroup</th>\n",
       "    </tr>\n",
       "  </thead>\n",
       "  <tbody>\n",
       "    <tr>\n",
       "      <th>0</th>\n",
       "      <td>1</td>\n",
       "      <td>0</td>\n",
       "      <td>b</td>\n",
       "    </tr>\n",
       "    <tr>\n",
       "      <th>3</th>\n",
       "      <td>4</td>\n",
       "      <td>0</td>\n",
       "      <td>b</td>\n",
       "    </tr>\n",
       "    <tr>\n",
       "      <th>4</th>\n",
       "      <td>5</td>\n",
       "      <td>0</td>\n",
       "      <td>b</td>\n",
       "    </tr>\n",
       "    <tr>\n",
       "      <th>5</th>\n",
       "      <td>6</td>\n",
       "      <td>0</td>\n",
       "      <td>b</td>\n",
       "    </tr>\n",
       "    <tr>\n",
       "      <th>6</th>\n",
       "      <td>7</td>\n",
       "      <td>0</td>\n",
       "      <td>b</td>\n",
       "    </tr>\n",
       "  </tbody>\n",
       "</table>\n",
       "</div>"
      ],
      "text/plain": [
       "   user_id  revenue testgroup\n",
       "0        1        0         b\n",
       "3        4        0         b\n",
       "4        5        0         b\n",
       "5        6        0         b\n",
       "6        7        0         b"
      ]
     },
     "execution_count": 55,
     "metadata": {},
     "output_type": "execute_result"
    }
   ],
   "source": [
    "df_b.head()"
   ]
  },
  {
   "cell_type": "code",
   "execution_count": 56,
   "metadata": {},
   "outputs": [
    {
     "data": {
      "text/plain": [
       "(202667, 3)"
      ]
     },
     "execution_count": 56,
     "metadata": {},
     "output_type": "execute_result"
    }
   ],
   "source": [
    "df_b.shape"
   ]
  },
  {
   "cell_type": "code",
   "execution_count": 57,
   "metadata": {},
   "outputs": [
    {
     "data": {
      "text/plain": [
       "user_id       int64\n",
       "revenue       int64\n",
       "testgroup    object\n",
       "dtype: object"
      ]
     },
     "execution_count": 57,
     "metadata": {},
     "output_type": "execute_result"
    }
   ],
   "source": [
    "df_b.dtypes"
   ]
  },
  {
   "cell_type": "code",
   "execution_count": 58,
   "metadata": {},
   "outputs": [
    {
     "data": {
      "text/html": [
       "<div>\n",
       "<style scoped>\n",
       "    .dataframe tbody tr th:only-of-type {\n",
       "        vertical-align: middle;\n",
       "    }\n",
       "\n",
       "    .dataframe tbody tr th {\n",
       "        vertical-align: top;\n",
       "    }\n",
       "\n",
       "    .dataframe thead th {\n",
       "        text-align: right;\n",
       "    }\n",
       "</style>\n",
       "<table border=\"1\" class=\"dataframe\">\n",
       "  <thead>\n",
       "    <tr style=\"text-align: right;\">\n",
       "      <th></th>\n",
       "      <th>user_id</th>\n",
       "      <th>revenue</th>\n",
       "    </tr>\n",
       "  </thead>\n",
       "  <tbody>\n",
       "    <tr>\n",
       "      <th>count</th>\n",
       "      <td>202667.000000</td>\n",
       "      <td>202667.000000</td>\n",
       "    </tr>\n",
       "    <tr>\n",
       "      <th>mean</th>\n",
       "      <td>202215.564389</td>\n",
       "      <td>26.751287</td>\n",
       "    </tr>\n",
       "    <tr>\n",
       "      <th>std</th>\n",
       "      <td>116891.926690</td>\n",
       "      <td>287.324162</td>\n",
       "    </tr>\n",
       "    <tr>\n",
       "      <th>min</th>\n",
       "      <td>1.000000</td>\n",
       "      <td>0.000000</td>\n",
       "    </tr>\n",
       "    <tr>\n",
       "      <th>25%</th>\n",
       "      <td>100855.500000</td>\n",
       "      <td>0.000000</td>\n",
       "    </tr>\n",
       "    <tr>\n",
       "      <th>50%</th>\n",
       "      <td>201821.000000</td>\n",
       "      <td>0.000000</td>\n",
       "    </tr>\n",
       "    <tr>\n",
       "      <th>75%</th>\n",
       "      <td>303602.500000</td>\n",
       "      <td>0.000000</td>\n",
       "    </tr>\n",
       "    <tr>\n",
       "      <th>max</th>\n",
       "      <td>404770.000000</td>\n",
       "      <td>4000.000000</td>\n",
       "    </tr>\n",
       "  </tbody>\n",
       "</table>\n",
       "</div>"
      ],
      "text/plain": [
       "             user_id        revenue\n",
       "count  202667.000000  202667.000000\n",
       "mean   202215.564389      26.751287\n",
       "std    116891.926690     287.324162\n",
       "min         1.000000       0.000000\n",
       "25%    100855.500000       0.000000\n",
       "50%    201821.000000       0.000000\n",
       "75%    303602.500000       0.000000\n",
       "max    404770.000000    4000.000000"
      ]
     },
     "execution_count": 58,
     "metadata": {},
     "output_type": "execute_result"
    }
   ],
   "source": [
    "df_b.describe()"
   ]
  },
  {
   "cell_type": "code",
   "execution_count": 59,
   "metadata": {},
   "outputs": [
    {
     "data": {
      "text/plain": [
       "1805"
      ]
     },
     "execution_count": 59,
     "metadata": {},
     "output_type": "execute_result"
    }
   ],
   "source": [
    "# Подсчитаем кол-во платящих пользователей в группе B (тестовой)\n",
    "\n",
    "df_b_clients = df_b.query('revenue != 0').user_id.count()\n",
    "df_b_clients"
   ]
  },
  {
   "cell_type": "code",
   "execution_count": 60,
   "metadata": {},
   "outputs": [
    {
     "data": {
      "text/plain": [
       "<matplotlib.axes._subplots.AxesSubplot at 0x7fa3322ff9e8>"
      ]
     },
     "execution_count": 60,
     "metadata": {},
     "output_type": "execute_result"
    },
    {
     "data": {
      "image/png": "[encoded data removed]",
      "text/plain": [
       "<Figure size 842.4x595.44 with 1 Axes>"
      ]
     },
     "metadata": {},
     "output_type": "display_data"
    }
   ],
   "source": [
    "# Сравним показатели revenue для обеих групп с помощью боксплота\n",
    "\n",
    "sns.boxplot(data=df.query('revenue != 0'), y='revenue', x='testgroup', hue='testgroup', order=['a', 'b'], )"
   ]
  },
  {
   "cell_type": "markdown",
   "metadata": {},
   "source": [
    "**Комментарий:**\n",
    "\n",
    "Боксплоты \"прижались\" к оси x. Видим, что контрольная группа содержит в себе значительные выбросы с значениями *revenue* более 35000. Попробуем отсечь данные записи и проверить боксплот заново."
   ]
  },
  {
   "cell_type": "code",
   "execution_count": 61,
   "metadata": {},
   "outputs": [
    {
     "data": {
      "text/plain": [
       "<matplotlib.axes._subplots.AxesSubplot at 0x7fa3322f2a90>"
      ]
     },
     "execution_count": 61,
     "metadata": {},
     "output_type": "execute_result"
    },
    {
     "data": {
      "image/png": "[encoded data removed]",
      "text/plain": [
       "<Figure size 842.4x595.44 with 1 Axes>"
      ]
     },
     "metadata": {},
     "output_type": "display_data"
    }
   ],
   "source": [
    "# Сравним показатели revenue для обеих групп с помощью боксплота\n",
    "\n",
    "sns.boxplot(data=df.query('revenue != 0 & revenue < 35000'), y='revenue', x='testgroup', hue='testgroup', order=['a', 'b'], )"
   ]
  },
  {
   "cell_type": "markdown",
   "metadata": {},
   "source": [
    "**Комментарий:**\n",
    "\n",
    "В результате отсечения выбросов в контрольной группе (группе А) мы можем увидеть заметное различие в показателях *revenue* для контрольной и тестовой групп."
   ]
  },
  {
   "cell_type": "markdown",
   "metadata": {},
   "source": [
    "**Выводы по данному этапу:**\n",
    "\n",
    "Наличие выбросов в контрольной группе может говорить об ошибке на этапе сплитования аудитории.\n",
    "\n",
    "А может говорить и о том, что таковым является диапазон цен акционных предложений и что в тестовой группе акционные предложения с более дорогим ценником не предлагались пользователям. Проще говоря, не имея уточняющих данных о контексте проводимого исследования мы не можем говорить о том, что такие смещения являются выбросами (тем более, что бОльшие платежи как раз-таки приносят бОльшую часть выручки в контрольной группе).\n",
    "\n",
    "Следовательно, останавливаемся на варианте с тем, что преобразовывать данные в контрольной группе не надо."
   ]
  },
  {
   "cell_type": "markdown",
   "metadata": {},
   "source": [
    "#### Этап 2. Подготовка к анализу результатов A/B теста"
   ]
  },
  {
   "cell_type": "markdown",
   "metadata": {},
   "source": [
    "**Определение статистического метода для оценки результатов A/B теста**\n",
    "\n",
    "Для выбора корректного теста необходимо рассмотреть следующие шаги:\n",
    "\n",
    "1. Являются ли сравниваемые величины количественными или категориальными?\n",
    "\n",
    "В нашем случае, мы будем сравнивать изменение значения *Revenue*. Следовательно, величина количественная и непрерывная.\n",
    "\n",
    "2. Тип исследовательского вопроса?\n",
    "\n",
    "Сравнение различий.\n",
    "\n",
    "3. Что сравниваем?\n",
    "\n",
    "Средние (t-критерий Стьюдента) и конверсию (Хи-квадрат)\n",
    "\n",
    "4. Какое кол-во групп мы сравниваем?\n",
    "\n",
    "Количество сравниваемых групп - 2\n",
    "\n",
    "5. Удовлетворяются ли параметрические условия?\n",
    "\n",
    "Осуществим проверку данных на выполнение параметрических условий двумя методами:\n",
    "\n",
    "    * Визуальным\n",
    "\n",
    "    * Тестом Шапиро-Уилка"
   ]
  },
  {
   "cell_type": "code",
   "execution_count": 85,
   "metadata": {},
   "outputs": [
    {
     "data": {
      "text/plain": [
       "<seaborn.axisgrid.FacetGrid at 0x7fa335d6f748>"
      ]
     },
     "execution_count": 85,
     "metadata": {},
     "output_type": "execute_result"
    },
    {
     "data": {
      "image/png": "[encoded data removed]",
      "text/plain": [
       "<Figure size 360x360 with 1 Axes>"
      ]
     },
     "metadata": {},
     "output_type": "display_data"
    }
   ],
   "source": [
    "# Проверим нормальность распределений визуальным способом, для этого\n",
    "# построим гистограммы для обеих групп\n",
    "\n",
    "sns.displot(data=df.query('testgroup == \"a\" & revenue != 0').groupby('revenue', as_index=False).agg({'user_id': 'count'}), x='revenue', bins=20)"
   ]
  },
  {
   "cell_type": "code",
   "execution_count": 63,
   "metadata": {},
   "outputs": [
    {
     "data": {
      "text/plain": [
       "<seaborn.axisgrid.FacetGrid at 0x7fa331b6ce48>"
      ]
     },
     "execution_count": 63,
     "metadata": {},
     "output_type": "execute_result"
    },
    {
     "data": {
      "image/png": "[encoded data removed]",
      "text/plain": [
       "<Figure size 360x360 with 1 Axes>"
      ]
     },
     "metadata": {},
     "output_type": "display_data"
    }
   ],
   "source": [
    "sns.displot(data=df.query('testgroup == \"b\" & revenue != 0').groupby('revenue', as_index=False).agg({'user_id': 'count'}), x='revenue', bins=20)"
   ]
  },
  {
   "cell_type": "markdown",
   "metadata": {},
   "source": [
    "**Комментарий:**\n",
    "\n",
    "Видим, что распределения не являются нормальными. Осуществим дополнительную проверку с помощью теста Шапиро-Уилка."
   ]
  },
  {
   "cell_type": "code",
   "execution_count": 64,
   "metadata": {},
   "outputs": [],
   "source": [
    "# Подготовим датасет с контрольной группой для проверки тестом Шапиро-Уилка\n",
    "\n",
    "df_a_group = df.query('testgroup == \"a\" & revenue != 0').groupby('revenue', as_index=False).agg({'user_id': 'count'})"
   ]
  },
  {
   "cell_type": "code",
   "execution_count": 65,
   "metadata": {},
   "outputs": [],
   "source": [
    "# Подготовим датасет с тестовой группой для проверки тестом Шапиро-Уилка\n",
    "\n",
    "df_b_group = df.query('testgroup == \"b\" & revenue != 0').groupby('revenue', as_index=False).agg({'user_id': 'count'})"
   ]
  },
  {
   "cell_type": "code",
   "execution_count": 66,
   "metadata": {},
   "outputs": [
    {
     "data": {
      "text/plain": [
       "ShapiroResult(statistic=0.9546118378639221, pvalue=5.123054961586604e-06)"
      ]
     },
     "execution_count": 66,
     "metadata": {},
     "output_type": "execute_result"
    }
   ],
   "source": [
    "shapiro(df_a_group['revenue'])"
   ]
  },
  {
   "cell_type": "code",
   "execution_count": 67,
   "metadata": {},
   "outputs": [
    {
     "data": {
      "text/plain": [
       "ShapiroResult(statistic=0.9595694541931152, pvalue=8.611232245265899e-18)"
      ]
     },
     "execution_count": 67,
     "metadata": {},
     "output_type": "execute_result"
    }
   ],
   "source": [
    "# В обоих случаях тест Шапиро-Уилка показал pvalue < 0.05, поэтому можем отвергнуть нулевую гипотезу о том,\n",
    "# что распределение не является нормальным\n",
    "\n",
    "shapiro(df_b_group['revenue'])"
   ]
  },
  {
   "cell_type": "markdown",
   "metadata": {},
   "source": [
    "**Выбор теста**:\n",
    "\n",
    "Для проведения проверки стат. значимости разницы между акционными предложениями воспользуемся t-критерием Стьюдента, т.к. несмотря на ненормальный характер имеющихся распределений, согласно ЦПТ для выборок с большим количеством наблюдений точность определения будет близка к таковому у нормального распределения."
   ]
  },
  {
   "cell_type": "markdown",
   "metadata": {},
   "source": [
    "#### Этап 3. Непосредственный анализ результатов A/B теста"
   ]
  },
  {
   "cell_type": "markdown",
   "metadata": {},
   "source": [
    "Посчитаем также продуктовые метрики, чтобы лучше понимать разницу между контрольной и тестовой группами."
   ]
  },
  {
   "cell_type": "code",
   "execution_count": 69,
   "metadata": {},
   "outputs": [
    {
     "data": {
      "text/plain": [
       "2663.9984439834025"
      ]
     },
     "execution_count": 69,
     "metadata": {},
     "output_type": "execute_result"
    }
   ],
   "source": [
    "# Рассчитаем ARPPU для контрольной группы\n",
    "\n",
    "ARPPU_a = df_a.query('revenue != 0').revenue.mean()\n",
    "ARPPU_a"
   ]
  },
  {
   "cell_type": "code",
   "execution_count": 70,
   "metadata": {},
   "outputs": [
    {
     "data": {
      "text/plain": [
       "3003.6581717451522"
      ]
     },
     "execution_count": 70,
     "metadata": {},
     "output_type": "execute_result"
    }
   ],
   "source": [
    "# Рассчитаем ARPPU для тестовой группы\n",
    "\n",
    "ARPPU_b = df_b.query('revenue != 0').revenue.mean()\n",
    "ARPPU_b"
   ]
  },
  {
   "cell_type": "code",
   "execution_count": 72,
   "metadata": {},
   "outputs": [
    {
     "data": {
      "text/plain": [
       "25.413719736965806"
      ]
     },
     "execution_count": 72,
     "metadata": {},
     "output_type": "execute_result"
    }
   ],
   "source": [
    "# ARPU для контрольной группы без выбросов\n",
    "\n",
    "df_a.revenue.mean()"
   ]
  },
  {
   "cell_type": "code",
   "execution_count": 73,
   "metadata": {},
   "outputs": [
    {
     "data": {
      "text/plain": [
       "26.75128659327863"
      ]
     },
     "execution_count": 73,
     "metadata": {},
     "output_type": "execute_result"
    }
   ],
   "source": [
    "# И для тестовой группы\n",
    "\n",
    "df_b.revenue.mean()"
   ]
  },
  {
   "cell_type": "code",
   "execution_count": 112,
   "metadata": {},
   "outputs": [
    {
     "data": {
      "text/plain": [
       "0.009539690157988749"
      ]
     },
     "execution_count": 112,
     "metadata": {},
     "output_type": "execute_result"
    }
   ],
   "source": [
    "# Рассчитаем конверсию в клиента для контрольной группы\n",
    "\n",
    "Conversion_a = df_a.query('revenue != 0').user_id.count() / df_a.user_id.count()\n",
    "Conversion_a"
   ]
  },
  {
   "cell_type": "code",
   "execution_count": 113,
   "metadata": {},
   "outputs": [
    {
     "data": {
      "text/plain": [
       "0.008931089592930338"
      ]
     },
     "execution_count": 113,
     "metadata": {},
     "output_type": "execute_result"
    }
   ],
   "source": [
    "# Рассчитаем конверсию в клиента для тестовой группы\n",
    "# Конверсия у тестовой группы уменьшилась!\n",
    "\n",
    "Conversion_b = df_b.query('revenue != 0').user_id.count() / df_a.user_id.count()\n",
    "Conversion_b"
   ]
  },
  {
   "cell_type": "code",
   "execution_count": 79,
   "metadata": {},
   "outputs": [
    {
     "data": {
      "text/plain": [
       "Ttest_indResult(statistic=-0.6242026493616787, pvalue=0.532494858971837)"
      ]
     },
     "execution_count": 79,
     "metadata": {},
     "output_type": "execute_result"
    }
   ],
   "source": [
    "# Не смотря на то, что текущее распределение не является нормальным, ЦПТ говорит о возможности использования\n",
    "# t-критерия Стьюдента для выборок с большим кол-вом наблюдений\n",
    "\n",
    "# H0 - Средние значения *revenue* не отличаются\n",
    "# H1 - Средние значения *revenue* имеют статистически значимые различия\n",
    "\n",
    "\n",
    "# Сравним средние показатели revenue\n",
    "# p-value > 0.05, а значит оснований отклонить нулевую гипотезу у нас нет\n",
    "\n",
    "stats.ttest_ind(df_a['revenue'], df_b['revenue'])"
   ]
  },
  {
   "cell_type": "code",
   "execution_count": 123,
   "metadata": {},
   "outputs": [],
   "source": [
    "# Проверим стат. значимость различий в конверсии между тестовой и контрольной группами\n",
    "# Для этого воспользуемся статистикой Хи-квадрат, но для начала подготовим данные\n",
    "# Создадим колонки, показывающие был ли конвертирован каждый из пользователей проверяемых групп\n",
    "\n",
    "df_a['converted'] = df_a.revenue != 0\n",
    "df_a['converted'] = df_a['converted'].astype(int)"
   ]
  },
  {
   "cell_type": "code",
   "execution_count": 125,
   "metadata": {},
   "outputs": [
    {
     "data": {
      "text/html": [
       "<div>\n",
       "<style scoped>\n",
       "    .dataframe tbody tr th:only-of-type {\n",
       "        vertical-align: middle;\n",
       "    }\n",
       "\n",
       "    .dataframe tbody tr th {\n",
       "        vertical-align: top;\n",
       "    }\n",
       "\n",
       "    .dataframe thead th {\n",
       "        text-align: right;\n",
       "    }\n",
       "</style>\n",
       "<table border=\"1\" class=\"dataframe\">\n",
       "  <thead>\n",
       "    <tr style=\"text-align: right;\">\n",
       "      <th></th>\n",
       "      <th>user_id</th>\n",
       "      <th>revenue</th>\n",
       "      <th>testgroup</th>\n",
       "      <th>converted</th>\n",
       "    </tr>\n",
       "  </thead>\n",
       "  <tbody>\n",
       "    <tr>\n",
       "      <th>1</th>\n",
       "      <td>2</td>\n",
       "      <td>0</td>\n",
       "      <td>a</td>\n",
       "      <td>0</td>\n",
       "    </tr>\n",
       "    <tr>\n",
       "      <th>2</th>\n",
       "      <td>3</td>\n",
       "      <td>0</td>\n",
       "      <td>a</td>\n",
       "      <td>0</td>\n",
       "    </tr>\n",
       "    <tr>\n",
       "      <th>9</th>\n",
       "      <td>10</td>\n",
       "      <td>0</td>\n",
       "      <td>a</td>\n",
       "      <td>0</td>\n",
       "    </tr>\n",
       "    <tr>\n",
       "      <th>10</th>\n",
       "      <td>11</td>\n",
       "      <td>0</td>\n",
       "      <td>a</td>\n",
       "      <td>0</td>\n",
       "    </tr>\n",
       "    <tr>\n",
       "      <th>11</th>\n",
       "      <td>12</td>\n",
       "      <td>0</td>\n",
       "      <td>a</td>\n",
       "      <td>0</td>\n",
       "    </tr>\n",
       "  </tbody>\n",
       "</table>\n",
       "</div>"
      ],
      "text/plain": [
       "    user_id  revenue testgroup  converted\n",
       "1         2        0         a          0\n",
       "2         3        0         a          0\n",
       "9        10        0         a          0\n",
       "10       11        0         a          0\n",
       "11       12        0         a          0"
      ]
     },
     "execution_count": 125,
     "metadata": {},
     "output_type": "execute_result"
    }
   ],
   "source": [
    "df_a.head()"
   ]
  },
  {
   "cell_type": "code",
   "execution_count": 126,
   "metadata": {},
   "outputs": [],
   "source": [
    "df_b['converted'] = df_b.revenue != 0\n",
    "df_b['converted'] = df_b['converted'].astype(int)"
   ]
  },
  {
   "cell_type": "code",
   "execution_count": 127,
   "metadata": {},
   "outputs": [
    {
     "data": {
      "text/html": [
       "<div>\n",
       "<style scoped>\n",
       "    .dataframe tbody tr th:only-of-type {\n",
       "        vertical-align: middle;\n",
       "    }\n",
       "\n",
       "    .dataframe tbody tr th {\n",
       "        vertical-align: top;\n",
       "    }\n",
       "\n",
       "    .dataframe thead th {\n",
       "        text-align: right;\n",
       "    }\n",
       "</style>\n",
       "<table border=\"1\" class=\"dataframe\">\n",
       "  <thead>\n",
       "    <tr style=\"text-align: right;\">\n",
       "      <th></th>\n",
       "      <th>user_id</th>\n",
       "      <th>revenue</th>\n",
       "      <th>testgroup</th>\n",
       "      <th>converted</th>\n",
       "    </tr>\n",
       "  </thead>\n",
       "  <tbody>\n",
       "    <tr>\n",
       "      <th>0</th>\n",
       "      <td>1</td>\n",
       "      <td>0</td>\n",
       "      <td>b</td>\n",
       "      <td>0</td>\n",
       "    </tr>\n",
       "    <tr>\n",
       "      <th>3</th>\n",
       "      <td>4</td>\n",
       "      <td>0</td>\n",
       "      <td>b</td>\n",
       "      <td>0</td>\n",
       "    </tr>\n",
       "    <tr>\n",
       "      <th>4</th>\n",
       "      <td>5</td>\n",
       "      <td>0</td>\n",
       "      <td>b</td>\n",
       "      <td>0</td>\n",
       "    </tr>\n",
       "    <tr>\n",
       "      <th>5</th>\n",
       "      <td>6</td>\n",
       "      <td>0</td>\n",
       "      <td>b</td>\n",
       "      <td>0</td>\n",
       "    </tr>\n",
       "    <tr>\n",
       "      <th>6</th>\n",
       "      <td>7</td>\n",
       "      <td>0</td>\n",
       "      <td>b</td>\n",
       "      <td>0</td>\n",
       "    </tr>\n",
       "  </tbody>\n",
       "</table>\n",
       "</div>"
      ],
      "text/plain": [
       "   user_id  revenue testgroup  converted\n",
       "0        1        0         b          0\n",
       "3        4        0         b          0\n",
       "4        5        0         b          0\n",
       "5        6        0         b          0\n",
       "6        7        0         b          0"
      ]
     },
     "execution_count": 127,
     "metadata": {},
     "output_type": "execute_result"
    }
   ],
   "source": [
    "df_b.head()"
   ]
  },
  {
   "cell_type": "code",
   "execution_count": 128,
   "metadata": {},
   "outputs": [],
   "source": [
    "# Подсчитаем кол-во конвертированных и неконвертированных пользователей в исследуемых группах\n",
    "\n",
    "a_clients = df_a.converted.sum()\n",
    "a_not_clients = df_a.converted.size - df_a.converted.sum()\n",
    "\n",
    "b_clients = df_b.converted.sum()\n",
    "b_not_clients = df_b.converted.size - df_b.converted.sum()"
   ]
  },
  {
   "cell_type": "code",
   "execution_count": 148,
   "metadata": {},
   "outputs": [
    {
     "data": {
      "text/plain": [
       "array([[  1928, 200175],\n",
       "       [  1805, 200862]])"
      ]
     },
     "execution_count": 148,
     "metadata": {},
     "output_type": "execute_result"
    }
   ],
   "source": [
    "# Создадим таблицу сопряженности \n",
    "\n",
    "contingency_table = np.array([[a_clients, a_not_clients], [b_clients, b_not_clients]])\n",
    "contingency_table"
   ]
  },
  {
   "cell_type": "code",
   "execution_count": 151,
   "metadata": {},
   "outputs": [
    {
     "data": {
      "text/plain": [
       "0.03647561892312613"
      ]
     },
     "execution_count": 151,
     "metadata": {},
     "output_type": "execute_result"
    }
   ],
   "source": [
    "# Применим к полученной таблице статистику Хи-квадрат\n",
    "\n",
    "# H0: тестовая и контрольная группы не отличаются друг от друга по влиянию на конверсию в клиента\n",
    "# H1: тестовая и контрольная группы отличаются друг от друга по влиянию на конверсию в клиента\n",
    "\n",
    "# Полученный p-value < 0.05, следовательно отклоняем нулевую гипотезу\n",
    "# Различия в конверсиях в исследуемых группах статистически значимы\n",
    "\n",
    "chi2_contingency(contingency_table)[1]"
   ]
  },
  {
   "cell_type": "markdown",
   "metadata": {},
   "source": [
    "#### Выводы"
   ]
  },
  {
   "cell_type": "markdown",
   "metadata": {},
   "source": [
    "В результате исследования результатов A/B теста было обнаружено:\n",
    "\n",
    "1. Наличие возможных выбросов в контрольной группе (группе А)\n",
    "2. В тестовой группе (группе B) конверсия стала меньше. Следовательно, рост *ARPPU* не связан с привлечением новых клиентов\n",
    "3. Распределения *revenue* для каждой из групп не являются нормальными. Тем не менее, размер выборки позволяет применить t-критерий Стьюдента, опираясь на ЦПТ\n",
    "4. Тест t-критерия Стьюдента показал отсутствие статистической значимой разницы ARPU в тестовой и контрольной группах\n",
    "5. Статистика Хи-квадрат показала стат. значимое различие между конверсиями тестовой и контрольной групп. При этом тестовая группа показывает бОльшую конверсию\n",
    "\n",
    "Таким образом, на основании проведенного исследования можно сделать вывод о том, что контрольная группа (группа A) имеет более эффективный набор акционных предложений. Оставляем набор акционных предложений из данной группы."
   ]
  },
  {
   "cell_type": "markdown",
   "metadata": {},
   "source": [
    "&nbsp;\n",
    "### Задача 3. Анализ усложнения механик тематических событий"
   ]
  },
  {
   "cell_type": "markdown",
   "metadata": {},
   "source": [
    "#### Условие задачи:\n",
    "\n",
    "*Сценарий 1:*\n",
    "В игре Plants & Gardens каждый месяц проводятся тематические события, ограниченные по времени. В них игроки могут получить уникальные предметы для сада и персонажей, дополнительные монеты или бонусы. Для получения награды требуется пройти ряд уровней за определенное время.\n",
    "\n",
    "**Вопрос:** С помощью каких метрик можно оценить результаты последнего прошедшего события?\n",
    "\n",
    "*Сценарий 2:*\n",
    "Предположим, в другом событии мы усложнили механику событий так, что при каждой неудачной попытке выполнения уровня игрок будет откатываться на несколько уровней назад. \n",
    "\n",
    "**Вопрос:** Изменится ли набор метрик оценки результата? Если да, то как?"
   ]
  },
  {
   "cell_type": "markdown",
   "metadata": {},
   "source": [
    "#### Сценарий 1. Оценка последнего прошедшего тематического события"
   ]
  },
  {
   "cell_type": "markdown",
   "metadata": {},
   "source": [
    "Постараемся подобрать оптимальный набор метрик для данного сценария, основываясь на критериях хороших метрик, а именно:\n",
    "+ **Доступная для понимания** — вся команда понимает, что значит эта метрика, так как она незамысловата\n",
    "+ **Чувствительная** — метрика сразу отразит какие-то проблемы в одном или нескольких направлениях\n",
    "+ **Actionable** — метрика несет смысл, и ее динамика или сравнение с другими метриками нам о чём-то говорит и меняет наше поведение\n",
    "+ **Быстрая** — нам не нужно ждать конца месяца, чтобы посчитать эту метрику. Ценятся те метрики, которые можно измерять риалтайм и реагировать\n",
    "+ **Релевантная** — относится к нашим целям и тому, что мы хотим понять или узнать"
   ]
  },
  {
   "cell_type": "markdown",
   "metadata": {},
   "source": [
    "**Метрики аудитории:**\n",
    "\n",
    "В данном сценарии можно использовать метрики для оценки изменения в аудитории продукта, такие как:\n",
    "* *Дневная аудитория (DAU)*\n",
    "\n",
    "Она может быть ценна для нас, т.к. позволит отследить изменения в кол-ве уникальных посетителей до начала события, во время  события и после события. При этом она будет более чувствительна к изучаемым изменениям по сравнению с MAU (тем более, что события происходят ежемесячно).\n",
    "* *Месячная аудитория (DAU)*\n",
    "\n",
    "В данном случае может понадобится при сравнении нескольких событий, произошедших в разные месяцы, между собой. Например, если понадобится сравнить последнее событие со всеми предыдущими.\n",
    "* *Количество новых пользователей за месяц*\n",
    "\n",
    "Может помочь отследить насколько эффективно текущее событие привлекает именно новую аудиторию. Например, может позволить сравнить кол-во новых пользователей за месяц прошедшего события со всеми предыдущими."
   ]
  },
  {
   "cell_type": "markdown",
   "metadata": {},
   "source": [
    "**Воронка и конверсия**\n",
    "\n",
    "В данном сценарии в качестве воронки может рассматриваться следующая последовательность:\n",
    "\n",
    "    V Кол-во уникальных пользователей\n",
    "\n",
    "      V Кол-во игроков, перешедших на \"таб/экран\" (тапнувших на push-уведомление) события\n",
    "    \n",
    "        V Кол-во игроков, принявших участие в событии\n",
    "        \n",
    "          V Кол-во игроков, прошедших первый уровень\n",
    "            \n",
    "            V Кол-во игроков, прошедших n-й уровень\n",
    "                \n",
    "              V Кол-во игроков, прошедших последний уровень\n",
    "                    \n",
    "                V Кол-во игроков, получивших уникальную награду события (если она не выдается сразу)\n",
    "                \n",
    "В таком случае, мы можем рассмотреть абсолютную и относительную конверсии для каждого из этих шагов. При этом, каждая из них может оказать свою уникальную ценность:\n",
    "* *Конверсия игроков, перешедших на \"таб/экран\" события*\n",
    "\n",
    "Может показать насколько хорошо информированны пользователи о проходящем в текущее время событии.\n",
    "* *Конверсия игроков, принявших участие в событии*\n",
    "\n",
    "Может показать первое впечатление пользователя о событии. Например, он мог перейти по заинтересовавшему его уведомлению, но тут же разачароваться в условиях проведения события.\n",
    "* *Конверсия игроков, прошедших первый уровень*\n",
    "\n",
    "Указывает на то, что игрок принял решение опробовать событие.\n",
    "* *Конверсия игроков, прошедших n-й уровень*\n",
    "\n",
    "Может показывать на \"узкие места\". Т.е. те уровни, которые сильнее всего отпугивают игроков от дальнейшего участия в событии.\n",
    "* *Конверсия игроков, прошедших последний уровень*\n",
    "\n",
    "Указывает на то, какой процент людей прошел событие полностью.\n",
    "* *Конверсия игроков, получивших уникальную награду события*\n",
    "\n",
    "В случае, если награда выдается не сразу (или забирать ее надо вручную), может показать насколько эффективно игра напоминает пользователю о необходимости забрать вознаграждение. Хотя этот уровень воронки, конечно, несколько спорный."
   ]
  },
  {
   "cell_type": "markdown",
   "metadata": {},
   "source": [
    "**Retention**\n",
    "\n",
    "*Retention n-го дня* может показать насколько хорошо событие удерживает пользователей в приложении, при этом день за который мы будем считать удержание будет зависеть от длительности события (так же как и деление на когорты, в данном случае дневные или недельные)."
   ]
  },
  {
   "cell_type": "markdown",
   "metadata": {},
   "source": [
    "**Показатели доходов**\n",
    "\n",
    "Могут быть применены для оценки экономической эффективности события. Мы можем рассмотреть *конверсию в целевое действие*, связанное с текущим тематическим событием (например, покупку боевого пропуска, наборов предметов, подписку на ежедневные расходники и бустеры опыта, и т.д.).\n",
    "\n",
    "В таком случае, можно будет рассчитать *ARPPU (Average revenue per paying user)* и *ARPU (Average revenue per user)* и сравнить результаты с предыдущими событиями."
   ]
  },
  {
   "cell_type": "markdown",
   "metadata": {},
   "source": [
    "**Показатели расходов**\n",
    "\n",
    "* CAC (или стоимость привлечения клиента)\n",
    "\n",
    "Исходя из предыдущего пункта, может позволить оценить расходы на привлечение игроков, совершивших нужное нам целевое действие, связанное с монетизацией."
   ]
  },
  {
   "cell_type": "markdown",
   "metadata": {},
   "source": [
    "**Метрики удовлетворенности клиентов**\n",
    "\n",
    "Среди данной категории можно воспользоваться *оценкой удовлетворенности клиентов (CSAT)*, проведя сбор оценок события.\n",
    "\n",
    "Также можно посмотреть на динамику изменения оценок на платформе, через которую распространяется приложение (*App Store*, *Play Маркет* и т.д.).\n",
    "\n",
    "Так, например, в компьютерном сегменте видеоигр зачастую актуальные мнения пользователей можно получить из отзывов на платформах (*Steam, недавние отзывы*)."
   ]
  },
  {
   "cell_type": "markdown",
   "metadata": {},
   "source": [
    "**Прочие метрики**\n",
    "\n",
    "Среди прочих метрик можно также посмотреть на изменения средней продолжительность сессии (ASL) до события, во время события и после него."
   ]
  },
  {
   "cell_type": "markdown",
   "metadata": {},
   "source": [
    "#### Сценарий 2. Изменение механик события"
   ]
  },
  {
   "cell_type": "markdown",
   "metadata": {},
   "source": [
    "В связи с тем, что в данном сценарии меняются не просто механики уровней, а механики переходов между ними (по сути, прямо влияющие на поведение воронки и конверсии между ее уровнями), то, возможно, стоит добавить дополнительные метрики, позволившие бы лучше отслеживать влияние \"откатов\" с уровня в случае неудачи.\n",
    "\n",
    "Например, можно отслеживать *суммарное время, проведенное пользователем на каком-либо уровне* (за все попытки), либо считать *кол-во откатов с того или иного уровня*.\n",
    "\n",
    "Можно также посмотреть *retention* для пользователей по дням от даты последнего \"отката\". Это позволит оценить насколько данная механика отпугивает игроков от события/игры в целом."
   ]
  }
 ],
 "metadata": {
  "kernelspec": {
   "display_name": "Python 3 (ipykernel)",
   "language": "python",
   "name": "python3"
  },
  "language_info": {
   "codemirror_mode": {
    "name": "ipython",
    "version": 3
   },
   "file_extension": ".py",
   "mimetype": "text/x-python",
   "name": "python",
   "nbconvert_exporter": "python",
   "pygments_lexer": "ipython3",
   "version": "3.12.5"
  }
 },
 "nbformat": 4,
 "nbformat_minor": 4
}
